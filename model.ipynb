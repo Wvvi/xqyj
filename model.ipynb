{
 "cells": [
  {
   "cell_type": "code",
   "execution_count": 1,
   "metadata": {
    "collapsed": true
   },
   "outputs": [],
   "source": [
    "#import\n",
    "\n",
    "import pandas as pd\n",
    "from pandas import DataFrame,Series\n",
    "import numpy as np\n",
    "\n",
    "#model\n",
    "\n",
    "#标准化\n",
    "from sklearn.preprocessing import StandardScaler\n",
    "\n",
    "#GBDT\n",
    "from sklearn.ensemble import GradientBoostingClassifier\n",
    "from sklearn.ensemble import RandomForestClassifier\n",
    "\n",
    "#交叉验证测评\n",
    "from sklearn import metrics\n",
    "from sklearn.model_selection import cross_val_score\n",
    "\n",
    "#k折分层\n",
    "from sklearn.model_selection import StratifiedKFold\n",
    "from sklearn.model_selection import StratifiedShuffleSplit\n",
    "\n",
    "#网格调参\n",
    "from sklearn.model_selection import GridSearchCV\n",
    "\n",
    "import matplotlib.pylab as plt\n",
    "%matplotlib inline\n",
    "from matplotlib.pylab import rcParams\n",
    "rcParams['figure.figsize'] = 8, 4"
   ]
  },
  {
   "cell_type": "code",
   "execution_count": 171,
   "metadata": {
    "collapsed": false
   },
   "outputs": [
    {
     "data": {
      "text/html": [
       "<div>\n",
       "<table border=\"1\" class=\"dataframe\">\n",
       "  <thead>\n",
       "    <tr style=\"text-align: right;\">\n",
       "      <th></th>\n",
       "      <th>sno</th>\n",
       "      <th>zf</th>\n",
       "      <th>tdf</th>\n",
       "      <th>female</th>\n",
       "      <th>male</th>\n",
       "      <th>ncyj</th>\n",
       "      <th>ncwj</th>\n",
       "      <th>czyj</th>\n",
       "      <th>czwj</th>\n",
       "      <th>ks_is_jf</th>\n",
       "      <th>...</th>\n",
       "      <th>zf_lqf_d</th>\n",
       "      <th>zf_pjf_d</th>\n",
       "      <th>zybm</th>\n",
       "      <th>xybm</th>\n",
       "      <th>zy_fs_pm</th>\n",
       "      <th>poor_levlel</th>\n",
       "      <th>is_poor</th>\n",
       "      <th>jyzk</th>\n",
       "      <th>is_psy_warning</th>\n",
       "      <th>zy_pjf</th>\n",
       "    </tr>\n",
       "  </thead>\n",
       "  <tbody>\n",
       "    <tr>\n",
       "      <th>0</th>\n",
       "      <td>2012210001</td>\n",
       "      <td>533</td>\n",
       "      <td>533</td>\n",
       "      <td>1</td>\n",
       "      <td>0</td>\n",
       "      <td>0</td>\n",
       "      <td>0</td>\n",
       "      <td>0</td>\n",
       "      <td>1</td>\n",
       "      <td>1</td>\n",
       "      <td>...</td>\n",
       "      <td>11</td>\n",
       "      <td>15</td>\n",
       "      <td>4</td>\n",
       "      <td>8</td>\n",
       "      <td>71.0</td>\n",
       "      <td>4.0</td>\n",
       "      <td>0.0</td>\n",
       "      <td>1.0</td>\n",
       "      <td>0.0</td>\n",
       "      <td>518</td>\n",
       "    </tr>\n",
       "    <tr>\n",
       "      <th>1</th>\n",
       "      <td>2012210002</td>\n",
       "      <td>484</td>\n",
       "      <td>494</td>\n",
       "      <td>1</td>\n",
       "      <td>0</td>\n",
       "      <td>0</td>\n",
       "      <td>0</td>\n",
       "      <td>1</td>\n",
       "      <td>0</td>\n",
       "      <td>0</td>\n",
       "      <td>...</td>\n",
       "      <td>47</td>\n",
       "      <td>-34</td>\n",
       "      <td>4</td>\n",
       "      <td>8</td>\n",
       "      <td>11.0</td>\n",
       "      <td>4.0</td>\n",
       "      <td>0.0</td>\n",
       "      <td>1.0</td>\n",
       "      <td>0.0</td>\n",
       "      <td>518</td>\n",
       "    </tr>\n",
       "    <tr>\n",
       "      <th>2</th>\n",
       "      <td>2012210003</td>\n",
       "      <td>520</td>\n",
       "      <td>520</td>\n",
       "      <td>1</td>\n",
       "      <td>0</td>\n",
       "      <td>0</td>\n",
       "      <td>0</td>\n",
       "      <td>1</td>\n",
       "      <td>0</td>\n",
       "      <td>1</td>\n",
       "      <td>...</td>\n",
       "      <td>19</td>\n",
       "      <td>2</td>\n",
       "      <td>4</td>\n",
       "      <td>8</td>\n",
       "      <td>38.0</td>\n",
       "      <td>4.0</td>\n",
       "      <td>0.0</td>\n",
       "      <td>0.0</td>\n",
       "      <td>0.0</td>\n",
       "      <td>518</td>\n",
       "    </tr>\n",
       "    <tr>\n",
       "      <th>3</th>\n",
       "      <td>2012210004</td>\n",
       "      <td>578</td>\n",
       "      <td>578</td>\n",
       "      <td>1</td>\n",
       "      <td>0</td>\n",
       "      <td>0</td>\n",
       "      <td>0</td>\n",
       "      <td>0</td>\n",
       "      <td>1</td>\n",
       "      <td>1</td>\n",
       "      <td>...</td>\n",
       "      <td>0</td>\n",
       "      <td>60</td>\n",
       "      <td>4</td>\n",
       "      <td>8</td>\n",
       "      <td>215.0</td>\n",
       "      <td>4.0</td>\n",
       "      <td>0.0</td>\n",
       "      <td>1.0</td>\n",
       "      <td>0.0</td>\n",
       "      <td>518</td>\n",
       "    </tr>\n",
       "    <tr>\n",
       "      <th>4</th>\n",
       "      <td>2012210005</td>\n",
       "      <td>566</td>\n",
       "      <td>566</td>\n",
       "      <td>1</td>\n",
       "      <td>0</td>\n",
       "      <td>0</td>\n",
       "      <td>0</td>\n",
       "      <td>0</td>\n",
       "      <td>1</td>\n",
       "      <td>1</td>\n",
       "      <td>...</td>\n",
       "      <td>1</td>\n",
       "      <td>48</td>\n",
       "      <td>4</td>\n",
       "      <td>8</td>\n",
       "      <td>161.0</td>\n",
       "      <td>1.0</td>\n",
       "      <td>1.0</td>\n",
       "      <td>1.0</td>\n",
       "      <td>0.0</td>\n",
       "      <td>518</td>\n",
       "    </tr>\n",
       "  </tbody>\n",
       "</table>\n",
       "<p>5 rows × 38 columns</p>\n",
       "</div>"
      ],
      "text/plain": [
       "          sno   zf  tdf  female  male  ncyj  ncwj  czyj  czwj  ks_is_jf  \\\n",
       "0  2012210001  533  533       1     0     0     0     0     1         1   \n",
       "1  2012210002  484  494       1     0     0     0     1     0         0   \n",
       "2  2012210003  520  520       1     0     0     0     1     0         1   \n",
       "3  2012210004  578  578       1     0     0     0     0     1         1   \n",
       "4  2012210005  566  566       1     0     0     0     0     1         1   \n",
       "\n",
       "    ...    zf_lqf_d  zf_pjf_d  zybm  xybm  zy_fs_pm  poor_levlel  is_poor  \\\n",
       "0   ...          11        15     4     8      71.0          4.0      0.0   \n",
       "1   ...          47       -34     4     8      11.0          4.0      0.0   \n",
       "2   ...          19         2     4     8      38.0          4.0      0.0   \n",
       "3   ...           0        60     4     8     215.0          4.0      0.0   \n",
       "4   ...           1        48     4     8     161.0          1.0      1.0   \n",
       "\n",
       "   jyzk  is_psy_warning  zy_pjf  \n",
       "0   1.0             0.0     518  \n",
       "1   1.0             0.0     518  \n",
       "2   0.0             0.0     518  \n",
       "3   1.0             0.0     518  \n",
       "4   1.0             0.0     518  \n",
       "\n",
       "[5 rows x 38 columns]"
      ]
     },
     "execution_count": 171,
     "metadata": {},
     "output_type": "execute_result"
    }
   ],
   "source": [
    "#导入数据\n",
    "train_data=pd.read_csv('all_features/all_features.csv')\n",
    "#增加一列特征，各专业录取后的平均分\n",
    "train_data['zy_pjf']=train_data['zf']-train_data['zf_pjf_d']\n",
    "train_data=train_data.fillna(0)\n",
    "train_data.head()"
   ]
  },
  {
   "cell_type": "code",
   "execution_count": 172,
   "metadata": {
    "collapsed": true
   },
   "outputs": [],
   "source": [
    "#删除无用的列\n",
    "train_data=train_data.drop(['ybfsx_wk','ebfsx_wk','ybfsx_lk','ebfsx_lk','ssmzlqf_wk','ssmzlqf_lk',\n",
    "                            'hzlqf_wk','hzlqf_lk','csdm','zybm','xybm'],axis=1)"
   ]
  },
  {
   "cell_type": "code",
   "execution_count": 173,
   "metadata": {
    "collapsed": false
   },
   "outputs": [],
   "source": [
    "#只用科类为文科与理科的数据(如果要用全部数据请跳过这一代码，不要运行)\n",
    "a=list(train_data[train_data['kldm']==1].index)\n",
    "b=list(train_data[train_data['kldm']==5].index)\n",
    "train_data=train_data.ix[a+b]"
   ]
  },
  {
   "cell_type": "code",
   "execution_count": 174,
   "metadata": {
    "collapsed": false
   },
   "outputs": [
    {
     "data": {
      "text/html": [
       "<div>\n",
       "<table border=\"1\" class=\"dataframe\">\n",
       "  <thead>\n",
       "    <tr style=\"text-align: right;\">\n",
       "      <th></th>\n",
       "      <th>sno</th>\n",
       "      <th>zf</th>\n",
       "      <th>tdf</th>\n",
       "      <th>female</th>\n",
       "      <th>male</th>\n",
       "      <th>ncyj</th>\n",
       "      <th>ncwj</th>\n",
       "      <th>czyj</th>\n",
       "      <th>czwj</th>\n",
       "      <th>ks_is_jf</th>\n",
       "      <th>...</th>\n",
       "      <th>zfdj</th>\n",
       "      <th>zf_yb_d</th>\n",
       "      <th>zf_lqf_d</th>\n",
       "      <th>zf_pjf_d</th>\n",
       "      <th>zy_fs_pm</th>\n",
       "      <th>poor_levlel</th>\n",
       "      <th>is_poor</th>\n",
       "      <th>jyzk</th>\n",
       "      <th>is_psy_warning</th>\n",
       "      <th>zy_pjf</th>\n",
       "    </tr>\n",
       "  </thead>\n",
       "  <tbody>\n",
       "    <tr>\n",
       "      <th>0</th>\n",
       "      <td>2012210001</td>\n",
       "      <td>533</td>\n",
       "      <td>533</td>\n",
       "      <td>1</td>\n",
       "      <td>0</td>\n",
       "      <td>0</td>\n",
       "      <td>0</td>\n",
       "      <td>0</td>\n",
       "      <td>1</td>\n",
       "      <td>1</td>\n",
       "      <td>...</td>\n",
       "      <td>2</td>\n",
       "      <td>-6.0</td>\n",
       "      <td>11</td>\n",
       "      <td>15</td>\n",
       "      <td>71.0</td>\n",
       "      <td>4.0</td>\n",
       "      <td>0.0</td>\n",
       "      <td>1.0</td>\n",
       "      <td>0.0</td>\n",
       "      <td>518</td>\n",
       "    </tr>\n",
       "    <tr>\n",
       "      <th>2</th>\n",
       "      <td>2012210003</td>\n",
       "      <td>520</td>\n",
       "      <td>520</td>\n",
       "      <td>1</td>\n",
       "      <td>0</td>\n",
       "      <td>0</td>\n",
       "      <td>0</td>\n",
       "      <td>1</td>\n",
       "      <td>0</td>\n",
       "      <td>1</td>\n",
       "      <td>...</td>\n",
       "      <td>1</td>\n",
       "      <td>-9.0</td>\n",
       "      <td>19</td>\n",
       "      <td>2</td>\n",
       "      <td>38.0</td>\n",
       "      <td>4.0</td>\n",
       "      <td>0.0</td>\n",
       "      <td>0.0</td>\n",
       "      <td>0.0</td>\n",
       "      <td>518</td>\n",
       "    </tr>\n",
       "    <tr>\n",
       "      <th>3</th>\n",
       "      <td>2012210004</td>\n",
       "      <td>578</td>\n",
       "      <td>578</td>\n",
       "      <td>1</td>\n",
       "      <td>0</td>\n",
       "      <td>0</td>\n",
       "      <td>0</td>\n",
       "      <td>0</td>\n",
       "      <td>1</td>\n",
       "      <td>1</td>\n",
       "      <td>...</td>\n",
       "      <td>1</td>\n",
       "      <td>1.0</td>\n",
       "      <td>0</td>\n",
       "      <td>60</td>\n",
       "      <td>215.0</td>\n",
       "      <td>4.0</td>\n",
       "      <td>0.0</td>\n",
       "      <td>1.0</td>\n",
       "      <td>0.0</td>\n",
       "      <td>518</td>\n",
       "    </tr>\n",
       "    <tr>\n",
       "      <th>4</th>\n",
       "      <td>2012210005</td>\n",
       "      <td>566</td>\n",
       "      <td>566</td>\n",
       "      <td>1</td>\n",
       "      <td>0</td>\n",
       "      <td>0</td>\n",
       "      <td>0</td>\n",
       "      <td>0</td>\n",
       "      <td>1</td>\n",
       "      <td>1</td>\n",
       "      <td>...</td>\n",
       "      <td>3</td>\n",
       "      <td>-4.0</td>\n",
       "      <td>1</td>\n",
       "      <td>48</td>\n",
       "      <td>161.0</td>\n",
       "      <td>1.0</td>\n",
       "      <td>1.0</td>\n",
       "      <td>1.0</td>\n",
       "      <td>0.0</td>\n",
       "      <td>518</td>\n",
       "    </tr>\n",
       "    <tr>\n",
       "      <th>5</th>\n",
       "      <td>2012210006</td>\n",
       "      <td>574</td>\n",
       "      <td>574</td>\n",
       "      <td>1</td>\n",
       "      <td>0</td>\n",
       "      <td>0</td>\n",
       "      <td>1</td>\n",
       "      <td>0</td>\n",
       "      <td>0</td>\n",
       "      <td>1</td>\n",
       "      <td>...</td>\n",
       "      <td>1</td>\n",
       "      <td>17.0</td>\n",
       "      <td>12</td>\n",
       "      <td>56</td>\n",
       "      <td>63.0</td>\n",
       "      <td>4.0</td>\n",
       "      <td>0.0</td>\n",
       "      <td>1.0</td>\n",
       "      <td>0.0</td>\n",
       "      <td>518</td>\n",
       "    </tr>\n",
       "  </tbody>\n",
       "</table>\n",
       "<p>5 rows × 27 columns</p>\n",
       "</div>"
      ],
      "text/plain": [
       "          sno   zf  tdf  female  male  ncyj  ncwj  czyj  czwj  ks_is_jf  \\\n",
       "0  2012210001  533  533       1     0     0     0     0     1         1   \n",
       "2  2012210003  520  520       1     0     0     0     1     0         1   \n",
       "3  2012210004  578  578       1     0     0     0     0     1         1   \n",
       "4  2012210005  566  566       1     0     0     0     0     1         1   \n",
       "5  2012210006  574  574       1     0     0     1     0     0         1   \n",
       "\n",
       "    ...    zfdj  zf_yb_d  zf_lqf_d  zf_pjf_d  zy_fs_pm  poor_levlel  is_poor  \\\n",
       "0   ...       2     -6.0        11        15      71.0          4.0      0.0   \n",
       "2   ...       1     -9.0        19         2      38.0          4.0      0.0   \n",
       "3   ...       1      1.0         0        60     215.0          4.0      0.0   \n",
       "4   ...       3     -4.0         1        48     161.0          1.0      1.0   \n",
       "5   ...       1     17.0        12        56      63.0          4.0      0.0   \n",
       "\n",
       "   jyzk  is_psy_warning  zy_pjf  \n",
       "0   1.0             0.0     518  \n",
       "2   0.0             0.0     518  \n",
       "3   1.0             0.0     518  \n",
       "4   1.0             0.0     518  \n",
       "5   1.0             0.0     518  \n",
       "\n",
       "[5 rows x 27 columns]"
      ]
     },
     "execution_count": 174,
     "metadata": {},
     "output_type": "execute_result"
    }
   ],
   "source": [
    "train_data.head()"
   ]
  },
  {
   "cell_type": "code",
   "execution_count": 175,
   "metadata": {
    "collapsed": false
   },
   "outputs": [],
   "source": [
    "#将一些列转为字符串格式\n",
    "x=[x for x in ['kslb','kldm','csdj','zfdj','poor_levlel']]\n",
    "for i in range(len(x)):\n",
    "    train_data[x[i]]=train_data[x[i]].apply(lambda x:str(x))"
   ]
  },
  {
   "cell_type": "code",
   "execution_count": 176,
   "metadata": {
    "collapsed": false
   },
   "outputs": [
    {
     "data": {
      "text/plain": [
       "Index([u'sno', u'zf', u'tdf', u'female', u'male', u'ncyj', u'ncwj', u'czyj',\n",
       "       u'czwj', u'ks_is_jf', u'jydf', u'kslb', u'kldm', u'csdj', u'is_qu',\n",
       "       u'is_shi', u'is_xian', u'zfdj', u'zf_yb_d', u'zf_lqf_d', u'zf_pjf_d',\n",
       "       u'zy_fs_pm', u'poor_levlel', u'is_poor', u'jyzk', u'is_psy_warning',\n",
       "       u'zy_pjf'],\n",
       "      dtype='object')"
      ]
     },
     "execution_count": 176,
     "metadata": {},
     "output_type": "execute_result"
    }
   ],
   "source": [
    "train_data.columns"
   ]
  },
  {
   "cell_type": "code",
   "execution_count": 155,
   "metadata": {
    "collapsed": false
   },
   "outputs": [],
   "source": [
    "#对一些非字符串的列进行标准化\n",
    "scaler=StandardScaler()\n",
    "sca_columns=[x for x in ['zf','tdf','zy_fs_pm','zf_yb_d','zf_lqf_d','zf_pjf_d','zy_pjf','jydf']]\n",
    "train_sca1=scaler.fit_transform(train_data[sca_columns])\n",
    "sca_df=pd.DataFrame(train_sca1,columns=[sca_columns],index=train_data.index)\n",
    "\n",
    "#连接标准化后的表\n",
    "remain_columns=[x for x in train_data.columns if x not in sca_columns]\n",
    "remain_df=train_data[remain_columns]\n",
    "train_data=pd.concat([sca_df,remain_df],axis=1)"
   ]
  },
  {
   "cell_type": "code",
   "execution_count": 177,
   "metadata": {
    "collapsed": true
   },
   "outputs": [],
   "source": [
    "#对改变train_data的索引（如果使用全部的数据不要运行这一列）\n",
    "train_data=pd.DataFrame(train_data.values,index=range(len(train_data)),columns=train_data.columns)"
   ]
  },
  {
   "cell_type": "code",
   "execution_count": 179,
   "metadata": {
    "collapsed": false
   },
   "outputs": [],
   "source": [
    "#划分测试集,训练集\n",
    "X_new_train=train_data.drop(['sno','jyzk'],axis=1)\n",
    "sss = StratifiedShuffleSplit(n_splits=5, test_size=0.2, random_state=0)\n",
    "for train_index ,test_index in sss.split(X_new_train,train_data['jyzk']):\n",
    "    #训练集与测试集\n",
    "    x_train,x_test=X_new_train.ix[train_index],X_new_train.ix[test_index]\n",
    "    #训练集与测试标签\n",
    "    y_train,y_test=train_data['jyzk'].ix[train_index],train_data['jyzk'].ix[test_index]"
   ]
  },
  {
   "cell_type": "code",
   "execution_count": 180,
   "metadata": {
    "collapsed": false
   },
   "outputs": [],
   "source": [
    "#用全部的数据集作为测试集与训练集\n",
    "X_train=train_data.drop(['sno','jyzk'],axis=1)\n",
    "Y_train=train_data['jyzk'].values.astype(int).astype(str)\n",
    "\n",
    "#将标签的格式转字符串\n",
    "y_train=y_train.values.astype(int).astype(str)\n",
    "y_test=y_test.values.astype(int).astype(str)"
   ]
  },
  {
   "cell_type": "code",
   "execution_count": 181,
   "metadata": {
    "collapsed": false
   },
   "outputs": [
    {
     "name": "stdout",
     "output_type": "stream",
     "text": [
      "3594 899\n",
      "743 186\n",
      "3594 899\n",
      "743 186\n",
      "3594 899\n",
      "743 186\n",
      "3594 899\n",
      "743 186\n",
      "3594 899\n",
      "743 186\n"
     ]
    }
   ],
   "source": [
    "#分层划分训练测试集\n",
    "\n",
    "label=[0,1]\n",
    "skf = StratifiedKFold(n_splits=5,random_state=0,shuffle=True)\n",
    "for train, test in skf.split(x_train,y_train):\n",
    "    #原样本与分层划分样本获奖人数比例比较\n",
    "    train1=x_train.ix[test]\n",
    "    for i in range(len(label)):\n",
    "        train_i=pd.Series(y_train).value_counts()[label[i]]\n",
    "        test_i=pd.Series(y_test).value_counts()[label[i]]\n",
    "        print train_i, test_i"
   ]
  },
  {
   "cell_type": "code",
   "execution_count": 182,
   "metadata": {
    "collapsed": false
   },
   "outputs": [
    {
     "name": "stdout",
     "output_type": "stream",
     "text": [
      "Wall time: 2.06 s\n"
     ]
    },
    {
     "data": {
      "text/plain": [
       "array([ 0.82603687,  0.83179724,  0.82373272,  0.82929642,  0.83025404])"
      ]
     },
     "execution_count": 182,
     "metadata": {},
     "output_type": "execute_result"
    }
   ],
   "source": [
    "#分层交叉验证的准确率（结果很稳定）\n",
    "clf=GradientBoostingClassifier(n_estimators=100,random_state=2017)\n",
    "%time cv_skf=cross_val_score(clf,x_train,y_train,cv=skf)\n",
    "cv_skf"
   ]
  },
  {
   "cell_type": "code",
   "execution_count": 183,
   "metadata": {
    "collapsed": true
   },
   "outputs": [],
   "source": [
    "def modelfit(alg, xtrain, ytrain, predictor, m, n, flag, cv_folds, performCV=True, printFeatureImportance=True):\n",
    "    # set sample weight(样本权重)\n",
    "    weight_0=m\n",
    "    weight_1=n\n",
    "\n",
    "    weight_list = []\n",
    "    for j in range(len(ytrain)):\n",
    "        if ytrain[j] == '0':\n",
    "            weight_list.append(weight_0)\n",
    "        if ytrain[j] == '1':\n",
    "            weight_list.append(weight_1)\n",
    "    #算法拟合数据\n",
    "    if flag==1:\n",
    "        #拟合各类别的权重\n",
    "        alg.fit(xtrain, ytrain,weight_list)\n",
    "    else:\n",
    "        #不拟合各类别的权重\n",
    "        alg.fit(xtrain,ytrain)\n",
    "        \n",
    "    #用训练出模型预测测试集\n",
    "    dtrain_predictions = alg.predict(xtrain)\n",
    "    dtrain_predprob = alg.predict_proba(xtrain)[:,1]\n",
    "    \n",
    "    \n",
    "    #显示交叉验证的准确率\n",
    "    if performCV:\n",
    "        cv_score = cross_val_score(alg, xtrain, ytrain, cv=cv_folds)\n",
    "    \n",
    "    #模型输出报告\n",
    "    print \"\\nModel Report\"\n",
    "    print \"Accuracy : %.4g\" % metrics.accuracy_score(ytrain, dtrain_predictions)\n",
    "    print  \"roc_auc_score : %f\" % metrics.roc_auc_score(ytrain.astype(int),dtrain_predprob )\n",
    "    print metrics.classification_report(ytrain,dtrain_predictions)\n",
    "    if performCV:\n",
    "        print \"CV Score : Mean - %.7g | Std - %.7g | Min - %.7g | Max - %.7g\" % (np.mean(cv_score),np.std(cv_score),np.min(cv_score),np.max(cv_score))\n",
    "                \n",
    "    #重要特征显示\n",
    "    if printFeatureImportance:\n",
    "        feat_imp = pd.Series(alg.feature_importances_, predictor).sort_values(ascending=False)[:10]\n",
    "        feat_imp.plot(kind='bar', title='Feature Importances')\n",
    "        plt.ylabel('Feature Importance Score')"
   ]
  },
  {
   "cell_type": "code",
   "execution_count": 186,
   "metadata": {
    "collapsed": false
   },
   "outputs": [
    {
     "name": "stdout",
     "output_type": "stream",
     "text": [
      "\n",
      "Model Report\n",
      "Accuracy : 0.8121\n",
      "roc_auc_score : 0.788336\n",
      "             precision    recall  f1-score   support\n",
      "\n",
      "          0       0.45      0.47      0.46       743\n",
      "          1       0.89      0.88      0.89      3594\n",
      "\n",
      "avg / total       0.81      0.81      0.81      4337\n",
      "\n",
      "CV Score : Mean - 0.827993 | Std - 0.00329859 | Min - 0.8225806 | Max - 0.8317972\n"
     ]
    },
    {
     "data": {
      "image/png": "[encoded data removed]",
      "text/plain": [
       "<matplotlib.figure.Figure at 0xc0a0438>"
      ]
     },
     "metadata": {},
     "output_type": "display_data"
    }
   ],
   "source": [
    "#用默认参数训练出的基线模型(所有特征)\n",
    "predictors=[x for x in X_new_train.columns]\n",
    "gbm0 = GradientBoostingClassifier(random_state=10)\n",
    "modelfit(gbm0,x_train,y_train,predictors,3.6,1,1,skf)"
   ]
  },
  {
   "cell_type": "code",
   "execution_count": 197,
   "metadata": {
    "collapsed": false
   },
   "outputs": [
    {
     "data": {
      "text/plain": [
       "GridSearchCV(cv=5, error_score='raise',\n",
       "       estimator=GradientBoostingClassifier(criterion='friedman_mse', init=None,\n",
       "              learning_rate=0.1, loss='deviance', max_depth=6,\n",
       "              max_features='sqrt', max_leaf_nodes=None,\n",
       "              min_impurity_split=1e-07, min_samples_leaf=20,\n",
       "              min_samples_split=30, min_weight_fraction_leaf=0.0,\n",
       "              n_estimators=100, presort='auto', random_state=10,\n",
       "              subsample=0.8, verbose=0, warm_start=False),\n",
       "       fit_params={}, iid=False, n_jobs=4,\n",
       "       param_grid={'n_estimators': [10, 20, 30, 40, 50, 60, 70, 80, 90, 100, 110, 120, 130, 140, 150, 160, 170, 180, 190, 200]},\n",
       "       pre_dispatch='2*n_jobs', refit=True, return_train_score=True,\n",
       "       scoring=None, verbose=0)"
      ]
     },
     "execution_count": 197,
     "metadata": {},
     "output_type": "execute_result"
    }
   ],
   "source": [
    "#调节n_estimators参数\n",
    "param_test1 = {'n_estimators':range(10,201,10)}\n",
    "gsearch1 = GridSearchCV(estimator = GradientBoostingClassifier(learning_rate=0.1, min_samples_split=30,\n",
    "                                  min_samples_leaf=20,max_depth=6,max_features='sqrt',subsample=0.8,random_state=10), \n",
    "                       param_grid = param_test1,n_jobs=4,iid=False, cv=5)\n",
    "gsearch1.fit(x_train,y_train)"
   ]
  },
  {
   "cell_type": "code",
   "execution_count": null,
   "metadata": {
    "collapsed": true
   },
   "outputs": [],
   "source": [
    "#想查看每次遍历的分数\n",
    "#gsearch1.cv_results_"
   ]
  },
  {
   "cell_type": "code",
   "execution_count": 198,
   "metadata": {
    "collapsed": false
   },
   "outputs": [
    {
     "data": {
      "text/plain": [
       "({'n_estimators': 20}, 0.82914511624598908)"
      ]
     },
     "execution_count": 198,
     "metadata": {},
     "output_type": "execute_result"
    }
   ],
   "source": [
    "#查看当前调参的最优结果\n",
    "gsearch1.best_params_,gsearch1.best_score_"
   ]
  },
  {
   "cell_type": "code",
   "execution_count": 260,
   "metadata": {
    "collapsed": false
   },
   "outputs": [
    {
     "data": {
      "text/plain": [
       "GradientBoostingClassifier(criterion='friedman_mse', init=None,\n",
       "              learning_rate=0.1, loss='deviance', max_depth=6,\n",
       "              max_features='sqrt', max_leaf_nodes=None,\n",
       "              min_impurity_split=1e-07, min_samples_leaf=20,\n",
       "              min_samples_split=30, min_weight_fraction_leaf=0.0,\n",
       "              n_estimators=100, presort='auto', random_state=10,\n",
       "              subsample=0.8, verbose=0, warm_start=False)"
      ]
     },
     "execution_count": 260,
     "metadata": {},
     "output_type": "execute_result"
    }
   ],
   "source": [
    "#获得当前模型的最优参数\n",
    "gsearch1.estimator"
   ]
  },
  {
   "cell_type": "code",
   "execution_count": 189,
   "metadata": {
    "collapsed": false
   },
   "outputs": [
    {
     "name": "stdout",
     "output_type": "stream",
     "text": [
      "Wall time: 3min 26s\n"
     ]
    },
    {
     "data": {
      "text/plain": [
       "GridSearchCV(cv=5, error_score='raise',\n",
       "       estimator=GradientBoostingClassifier(criterion='friedman_mse', init=None,\n",
       "              learning_rate=0.1, loss='deviance', max_depth=3,\n",
       "              max_features='sqrt', max_leaf_nodes=None,\n",
       "              min_impurity_split=1e-07, min_samples_leaf=20,\n",
       "              min_samples_split=2, min_weight_fraction_leaf=0.0,\n",
       "              n_estimators=100, presort='auto', random_state=10,\n",
       "              subsample=0.8, verbose=0, warm_start=False),\n",
       "       fit_params={}, iid=False, n_jobs=4,\n",
       "       param_grid={'min_samples_split': [100, 110, 120, 130, 140, 150, 160, 170, 180, 190], 'max_depth': [5, 6, 7, 8, 9, 10, 11, 12, 13, 14, 15, 16, 17, 18, 19, 20]},\n",
       "       pre_dispatch='2*n_jobs', refit=True, return_train_score=True,\n",
       "       scoring=None, verbose=0)"
      ]
     },
     "execution_count": 189,
     "metadata": {},
     "output_type": "execute_result"
    }
   ],
   "source": [
    "#调节树的深度与参与节点分裂的最少样本数\n",
    "param_test2 = {'max_depth':range(5,21,1),'min_samples_split':range(100,200,10)}\n",
    "gsearch2 = GridSearchCV(estimator = GradientBoostingClassifier(learning_rate=0.1, n_estimators=100,min_samples_leaf=20,\n",
    "                                                 max_features='sqrt', subsample=0.8, random_state=10), \n",
    "                       param_grid = param_test2,n_jobs=4,iid=False, cv=5)\n",
    "%time gsearch2.fit(x_train,y_train)"
   ]
  },
  {
   "cell_type": "code",
   "execution_count": 190,
   "metadata": {
    "collapsed": false
   },
   "outputs": [
    {
     "data": {
      "text/plain": [
       "({'max_depth': 5, 'min_samples_split': 120}, 0.83016528925619826)"
      ]
     },
     "execution_count": 190,
     "metadata": {},
     "output_type": "execute_result"
    }
   ],
   "source": [
    "#查看当前调参的最优结果\n",
    "gsearch2.best_params_,gsearch2.best_score_"
   ]
  },
  {
   "cell_type": "code",
   "execution_count": 191,
   "metadata": {
    "collapsed": false
   },
   "outputs": [
    {
     "name": "stdout",
     "output_type": "stream",
     "text": [
      "Wall time: 1min 24s\n"
     ]
    },
    {
     "data": {
      "text/plain": [
       "GridSearchCV(cv=5, error_score='raise',\n",
       "       estimator=GradientBoostingClassifier(criterion='friedman_mse', init=None,\n",
       "              learning_rate=0.1, loss='deviance', max_depth=5,\n",
       "              max_features='sqrt', max_leaf_nodes=None,\n",
       "              min_impurity_split=1e-07, min_samples_leaf=1,\n",
       "              min_samples_split=2, min_weight_fraction_leaf=0.0,\n",
       "              n_estimators=100, presort='auto', random_state=10,\n",
       "              subsample=0.8, verbose=0, warm_start=False),\n",
       "       fit_params={}, iid=False, n_jobs=4,\n",
       "       param_grid={'min_samples_split': [100, 110, 120, 130, 140, 150, 160, 170, 180, 190, 200], 'min_samples_leaf': [10, 20, 30, 40, 50, 60, 70, 80, 90]},\n",
       "       pre_dispatch='2*n_jobs', refit=True, return_train_score=True,\n",
       "       scoring=None, verbose=0)"
      ]
     },
     "execution_count": 191,
     "metadata": {},
     "output_type": "execute_result"
    }
   ],
   "source": [
    "#调节节点分裂的最少样本数与叶子节点的样本本数\n",
    "param_test3 = {'min_samples_split':range(100,201,10),'min_samples_leaf':range(10,100,10)}\n",
    "gsearch3 = GridSearchCV(estimator = GradientBoostingClassifier(learning_rate=0.1, n_estimators=100,max_depth=5,\n",
    "                                                 max_features='sqrt', subsample=0.8, random_state=10), \n",
    "                       param_grid = param_test3,n_jobs=4,iid=False, cv=5)\n",
    "%time gsearch3.fit(x_train,y_train)"
   ]
  },
  {
   "cell_type": "code",
   "execution_count": 192,
   "metadata": {
    "collapsed": false
   },
   "outputs": [
    {
     "data": {
      "text/plain": [
       "({'min_samples_leaf': 50, 'min_samples_split': 170}, 0.83099173553719008)"
      ]
     },
     "execution_count": 192,
     "metadata": {},
     "output_type": "execute_result"
    }
   ],
   "source": [
    "#查看当前调参的最优结果\n",
    "gsearch3.best_params_,gsearch3.best_score_"
   ]
  },
  {
   "cell_type": "code",
   "execution_count": 193,
   "metadata": {
    "collapsed": false
   },
   "outputs": [
    {
     "data": {
      "text/plain": [
       "GridSearchCV(cv=5, error_score='raise',\n",
       "       estimator=GradientBoostingClassifier(criterion='friedman_mse', init=None,\n",
       "              learning_rate=0.1, loss='deviance', max_depth=5,\n",
       "              max_features=None, max_leaf_nodes=None,\n",
       "              min_impurity_split=1e-07, min_samples_leaf=50,\n",
       "              min_samples_split=170, min_weight_fraction_leaf=0.0,\n",
       "              n_estimators=100, presort='auto', random_state=10,\n",
       "              subsample=0.8, verbose=0, warm_start=False),\n",
       "       fit_params={}, iid=False, n_jobs=4,\n",
       "       param_grid={'max_features': [5, 6, 7, 8, 9, 10, 11, 12, 13, 14]},\n",
       "       pre_dispatch='2*n_jobs', refit=True, return_train_score=True,\n",
       "       scoring=None, verbose=0)"
      ]
     },
     "execution_count": 193,
     "metadata": {},
     "output_type": "execute_result"
    }
   ],
   "source": [
    "#调节参与判断节点分裂的最大特征数\n",
    "param_test4 = {'max_features':range(5,15,1)}\n",
    "gsearch4 = GridSearchCV(estimator = GradientBoostingClassifier(learning_rate=0.1, n_estimators=100,min_samples_leaf=50,\n",
    "                                                max_depth=5,min_samples_split=170, subsample=0.8, random_state=10), \n",
    "                       param_grid = param_test4,n_jobs=4,iid=False, cv=5)\n",
    "gsearch4.fit(x_train,y_train)"
   ]
  },
  {
   "cell_type": "code",
   "execution_count": 194,
   "metadata": {
    "collapsed": false
   },
   "outputs": [
    {
     "data": {
      "text/plain": [
       "({'max_features': 5}, 0.83099173553719008)"
      ]
     },
     "execution_count": 194,
     "metadata": {},
     "output_type": "execute_result"
    }
   ],
   "source": [
    "#查看当前调参的最优结果\n",
    "gsearch4.best_params_,gsearch4.best_score_"
   ]
  },
  {
   "cell_type": "code",
   "execution_count": 195,
   "metadata": {
    "collapsed": false
   },
   "outputs": [
    {
     "data": {
      "text/plain": [
       "GridSearchCV(cv=5, error_score='raise',\n",
       "       estimator=GradientBoostingClassifier(criterion='friedman_mse', init=None,\n",
       "              learning_rate=0.1, loss='deviance', max_depth=5,\n",
       "              max_features='sqrt', max_leaf_nodes=None,\n",
       "              min_impurity_split=1e-07, min_samples_leaf=50,\n",
       "              min_samples_split=170, min_weight_fraction_leaf=0.0,\n",
       "              n_estimators=100, presort='auto', random_state=10,\n",
       "              subsample=1.0, verbose=0, warm_start=False),\n",
       "       fit_params={}, iid=False, n_jobs=4,\n",
       "       param_grid={'subsample': [0.6, 0.7, 0.75, 0.8, 0.85, 0.9]},\n",
       "       pre_dispatch='2*n_jobs', refit=True, return_train_score=True,\n",
       "       scoring=None, verbose=0)"
      ]
     },
     "execution_count": 195,
     "metadata": {},
     "output_type": "execute_result"
    }
   ],
   "source": [
    "#调节样本采样率\n",
    "param_test5 = {'subsample':[0.6,0.7,0.75,0.8,0.85,0.9]}\n",
    "gsearch5 = GridSearchCV(estimator = GradientBoostingClassifier(learning_rate=0.1, n_estimators=100,max_depth=5, \n",
    "                            min_samples_split=170, min_samples_leaf=50, random_state=10, max_features='sqrt'),\n",
    "                       param_grid = param_test5,n_jobs=4,iid=False, cv=5)\n",
    "gsearch5.fit(x_train,y_train)"
   ]
  },
  {
   "cell_type": "code",
   "execution_count": 196,
   "metadata": {
    "collapsed": false
   },
   "outputs": [
    {
     "data": {
      "text/plain": [
       "({'subsample': 0.8}, 0.83099173553719008)"
      ]
     },
     "execution_count": 196,
     "metadata": {},
     "output_type": "execute_result"
    }
   ],
   "source": [
    "#查看当前调参的最优结果\n",
    "gsearch5.best_params_,gsearch5.best_score_"
   ]
  },
  {
   "cell_type": "code",
   "execution_count": 228,
   "metadata": {
    "collapsed": false
   },
   "outputs": [
    {
     "data": {
      "text/plain": [
       "GradientBoostingClassifier(criterion='friedman_mse', init=None,\n",
       "              learning_rate=0.05, loss='deviance', max_depth=5,\n",
       "              max_features=6, max_leaf_nodes=None,\n",
       "              min_impurity_split=1e-07, min_samples_leaf=10,\n",
       "              min_samples_split=60, min_weight_fraction_leaf=0.0,\n",
       "              n_estimators=40, presort='auto', random_state=10,\n",
       "              subsample=0.75, verbose=0, warm_start=False)"
      ]
     },
     "execution_count": 228,
     "metadata": {},
     "output_type": "execute_result"
    }
   ],
   "source": [
    "#模型参数\n",
    "gsearch5.best_estimator_"
   ]
  },
  {
   "cell_type": "code",
   "execution_count": null,
   "metadata": {
    "collapsed": true
   },
   "outputs": [],
   "source": [
    "#调节学习率与树的棵树，当减少学习率时，相对应就成倍增大训练树的棵树（调节最优参数的同时也要防止过拟合）\n",
    "gbm_tuned_1=GradientBoostingClassifier(learning_rate=0.005, n_estimators=2000,max_depth=7, min_samples_split=160, \n",
    "                                         min_samples_leaf=30, max_features='sqrt',subsample=0.8, random_state=10)"
   ]
  },
  {
   "cell_type": "code",
   "execution_count": 197,
   "metadata": {
    "collapsed": false
   },
   "outputs": [
    {
     "name": "stdout",
     "output_type": "stream",
     "text": [
      "\n",
      "Model Report\n",
      "Accuracy : 0.8372\n",
      "roc_auc_score : 0.814153\n",
      "             precision    recall  f1-score   support\n",
      "\n",
      "          0       0.92      0.04      0.08       820\n",
      "          1       0.84      1.00      0.91      4020\n",
      "\n",
      "avg / total       0.85      0.84      0.77      4840\n",
      "\n",
      "CV Score : Mean - 0.827686 | Std - 0.002003173 | Min - 0.8243802 | Max - 0.8305785\n"
     ]
    },
    {
     "data": {
      "image/png": "[encoded data removed]",
      "text/plain": [
       "<matplotlib.figure.Figure at 0xc3f17b8>"
      ]
     },
     "metadata": {},
     "output_type": "display_data"
    }
   ],
   "source": [
    "#查看最优模型的模型报告\n",
    "modelfit(gbm_tuned_1,x_train,y_train,predictors,3.6,1,0,skf)"
   ]
  },
  {
   "cell_type": "code",
   "execution_count": 300,
   "metadata": {
    "collapsed": false
   },
   "outputs": [
    {
     "name": "stdout",
     "output_type": "stream",
     "text": [
      "\n",
      "Model Report\n",
      "Accuracy : 0.9977\n",
      "roc_auc_score : 0.999980\n",
      "             precision    recall  f1-score   support\n",
      "\n",
      "          0       0.99      0.99      0.99      1025\n",
      "          1       1.00      1.00      1.00      5025\n",
      "\n",
      "avg / total       1.00      1.00      1.00      6050\n",
      "\n",
      "CV Score : Mean - 0.8190083 | Std - 0.002024372 | Min - 0.8157025 | Max - 0.8214876\n"
     ]
    },
    {
     "data": {
      "image/png": "[encoded data removed]",
      "text/plain": [
       "<matplotlib.figure.Figure at 0xf19eef0>"
      ]
     },
     "metadata": {},
     "output_type": "display_data"
    }
   ],
   "source": [
    "#随机森林(基线模型，即使用默认的参数，以下结果应该过拟合了)\n",
    "random_forest = RandomForestClassifier(n_estimators=100,random_state=10)\n",
    "modelfit(random_forest,x_train,y_train,predictors,3.5,1,0,skf)"
   ]
  },
  {
   "cell_type": "code",
   "execution_count": 287,
   "metadata": {
    "collapsed": false
   },
   "outputs": [
    {
     "data": {
      "text/plain": [
       "GridSearchCV(cv=5, error_score='raise',\n",
       "       estimator=RandomForestClassifier(bootstrap=True, class_weight={'1': 1, '0': 3},\n",
       "            criterion='gini', max_depth=6, max_features='sqrt',\n",
       "            max_leaf_nodes=None, min_impurity_split=1e-07,\n",
       "            min_samples_leaf=20, min_samples_split=100,\n",
       "            min_weight_fraction_leaf=0.0, n_estimators=10, n_jobs=1,\n",
       "            oob_score=False, random_state=10, verbose=0, warm_start=False),\n",
       "       fit_params={}, iid=False, n_jobs=4,\n",
       "       param_grid={'n_estimators': [10, 20, 30, 40, 50, 60, 70, 80, 90, 100, 110, 120, 130, 140, 150, 160, 170, 180, 190, 200]},\n",
       "       pre_dispatch='2*n_jobs', refit=True, return_train_score=True,\n",
       "       scoring=None, verbose=0)"
      ]
     },
     "execution_count": 287,
     "metadata": {},
     "output_type": "execute_result"
    }
   ],
   "source": [
    "#调节n_estimators参数\n",
    "param_test1 = {'n_estimators':range(10,201,10)}\n",
    "gsearch_rf1 = GridSearchCV(estimator = RandomForestClassifier( min_samples_split=100,min_samples_leaf=20,max_depth=6,\n",
    "                                  class_weight={'0':3,'1':1},max_features='sqrt',random_state=10), \n",
    "                       param_grid = param_test1,n_jobs=4,iid=False, cv=5)\n",
    "gsearch_rf1.fit(x_train,y_train)"
   ]
  },
  {
   "cell_type": "code",
   "execution_count": 290,
   "metadata": {
    "collapsed": false
   },
   "outputs": [
    {
     "data": {
      "text/plain": [
       "({'n_estimators': 180}, 0.81735537190082641)"
      ]
     },
     "execution_count": 290,
     "metadata": {},
     "output_type": "execute_result"
    }
   ],
   "source": [
    "#查看当前最优参数\n",
    "gsearch_rf1.best_params_,gsearch_rf1.best_score_"
   ]
  },
  {
   "cell_type": "code",
   "execution_count": 294,
   "metadata": {
    "collapsed": false
   },
   "outputs": [
    {
     "name": "stdout",
     "output_type": "stream",
     "text": [
      "Wall time: 7min 56s\n"
     ]
    },
    {
     "data": {
      "text/plain": [
       "GridSearchCV(cv=5, error_score='raise',\n",
       "       estimator=RandomForestClassifier(bootstrap=True, class_weight={'1': 1, '0': 3},\n",
       "            criterion='gini', max_depth=None, max_features='sqrt',\n",
       "            max_leaf_nodes=None, min_impurity_split=1e-07,\n",
       "            min_samples_leaf=20, min_samples_split=2,\n",
       "            min_weight_fraction_leaf=0.0, n_estimators=180, n_jobs=1,\n",
       "            oob_score=False, random_state=10, verbose=0, warm_start=False),\n",
       "       fit_params={}, iid=False, n_jobs=4,\n",
       "       param_grid={'min_samples_split': [100, 110, 120, 130, 140, 150, 160, 170, 180, 190], 'max_depth': [5, 6, 7, 8, 9, 10, 11, 12, 13, 14, 15, 16, 17, 18, 19, 20]},\n",
       "       pre_dispatch='2*n_jobs', refit=True, return_train_score=True,\n",
       "       scoring=None, verbose=0)"
      ]
     },
     "execution_count": 294,
     "metadata": {},
     "output_type": "execute_result"
    }
   ],
   "source": [
    "#调节树的最大深度与节点分裂的最少样本数\n",
    "param_test2 = {'max_depth':range(5,21,1),'min_samples_split':range(100,200,10)}\n",
    "gsearch_rf2 = GridSearchCV(estimator = RandomForestClassifier(n_estimators=180,min_samples_leaf=20,\n",
    "                                                 max_features='sqrt',class_weight={'0':3,'1':1}, random_state=10), \n",
    "                       param_grid = param_test2,n_jobs=4,iid=False, cv=5)\n",
    "%time gsearch_rf2.fit(x_train,y_train)"
   ]
  },
  {
   "cell_type": "code",
   "execution_count": 295,
   "metadata": {
    "collapsed": false
   },
   "outputs": [
    {
     "data": {
      "text/plain": [
       "({'max_depth': 5, 'min_samples_split': 120}, 0.81838842975206616)"
      ]
     },
     "execution_count": 295,
     "metadata": {},
     "output_type": "execute_result"
    }
   ],
   "source": [
    "#查看当前最优参数\n",
    "gsearch_rf2.best_params_,gsearch_rf2.best_score_"
   ]
  },
  {
   "cell_type": "code",
   "execution_count": 272,
   "metadata": {
    "collapsed": false
   },
   "outputs": [
    {
     "name": "stdout",
     "output_type": "stream",
     "text": [
      "Wall time: 5min 45s\n"
     ]
    },
    {
     "data": {
      "text/plain": [
       "GridSearchCV(cv=5, error_score='raise',\n",
       "       estimator=RandomForestClassifier(bootstrap=True, class_weight={'1': 1, '0': 3.6},\n",
       "            criterion='gini', max_depth=5, max_features='sqrt',\n",
       "            max_leaf_nodes=None, min_impurity_split=1e-07,\n",
       "            min_samples_leaf=1, min_samples_split=2,\n",
       "            min_weight_fraction_leaf=0.0, n_estimators=190, n_jobs=1,\n",
       "            oob_score=False, random_state=10, verbose=0, warm_start=False),\n",
       "       fit_params={}, iid=False, n_jobs=4,\n",
       "       param_grid={'min_samples_split': [100, 110, 120, 130, 140, 150, 160, 170, 180, 190, 200], 'min_samples_leaf': [10, 20, 30, 40, 50, 60, 70, 80, 90, 100]},\n",
       "       pre_dispatch='2*n_jobs', refit=True, return_train_score=True,\n",
       "       scoring=None, verbose=0)"
      ]
     },
     "execution_count": 272,
     "metadata": {},
     "output_type": "execute_result"
    }
   ],
   "source": [
    "#调节节点分裂的最少样本数与叶子节点的样本本数\n",
    "param_test3 = {'min_samples_leaf':range(10,101,10),'min_samples_split':range(100,201,10)}\n",
    "gsearch_rf3 = GridSearchCV(estimator = RandomForestClassifier(n_estimators=180,max_depth=5,\n",
    "                                                 max_features='sqrt',class_weight={'0':3,'1':1}, random_state=10), \n",
    "                       param_grid = param_test3,n_jobs=4,iid=False, cv=5)\n",
    "%time gsearch_rf3.fit(x_train,y_train)"
   ]
  },
  {
   "cell_type": "code",
   "execution_count": 273,
   "metadata": {
    "collapsed": false
   },
   "outputs": [
    {
     "data": {
      "text/plain": [
       "({'min_samples_leaf': 50, 'min_samples_split': 140}, 0.68677685950413214)"
      ]
     },
     "execution_count": 273,
     "metadata": {},
     "output_type": "execute_result"
    }
   ],
   "source": [
    "#查看当前最优参数\n",
    "gsearch_rf3.best_params_,gsearch_rf3.best_score_"
   ]
  },
  {
   "cell_type": "code",
   "execution_count": 276,
   "metadata": {
    "collapsed": false
   },
   "outputs": [
    {
     "name": "stdout",
     "output_type": "stream",
     "text": [
      "Wall time: 1min 3s\n"
     ]
    },
    {
     "data": {
      "text/plain": [
       "GridSearchCV(cv=5, error_score='raise',\n",
       "       estimator=RandomForestClassifier(bootstrap=True, class_weight={'1': 1, '0': 3.6},\n",
       "            criterion='gini', max_depth=5, max_features='auto',\n",
       "            max_leaf_nodes=None, min_impurity_split=1e-07,\n",
       "            min_samples_leaf=50, min_samples_split=140,\n",
       "            min_weight_fraction_leaf=0.0, n_estimators=190, n_jobs=1,\n",
       "            oob_score=False, random_state=10, verbose=0, warm_start=False),\n",
       "       fit_params={}, iid=False, n_jobs=4,\n",
       "       param_grid={'max_features': [5, 6, 7, 8, 9, 10, 11, 12, 13, 14, 15, 16, 17, 18, 19]},\n",
       "       pre_dispatch='2*n_jobs', refit=True, return_train_score=True,\n",
       "       scoring=None, verbose=0)"
      ]
     },
     "execution_count": 276,
     "metadata": {},
     "output_type": "execute_result"
    }
   ],
   "source": [
    "#参与判断的最大特征数\n",
    "param_test4 = {'max_features':range(5,20,1)}\n",
    "gsearch_rf4 = GridSearchCV(estimator = RandomForestClassifier(n_estimators=190,max_depth=5,min_samples_leaf=50,\n",
    "                                                 min_samples_split=140,class_weight={'0':3.6,'1':1}, random_state=10), \n",
    "                       param_grid = param_test4,n_jobs=4,iid=False, cv=5)\n",
    "%time gsearch_rf4.fit(x_train,y_train)"
   ]
  },
  {
   "cell_type": "code",
   "execution_count": 278,
   "metadata": {
    "collapsed": false
   },
   "outputs": [
    {
     "data": {
      "text/plain": [
       "({'max_features': 5}, 0.68677685950413214)"
      ]
     },
     "execution_count": 278,
     "metadata": {},
     "output_type": "execute_result"
    }
   ],
   "source": [
    "#查看当前最优参数\n",
    "gsearch_rf4.best_params_,gsearch_rf4.best_score_"
   ]
  },
  {
   "cell_type": "code",
   "execution_count": 284,
   "metadata": {
    "collapsed": false
   },
   "outputs": [
    {
     "name": "stdout",
     "output_type": "stream",
     "text": [
      "Wall time: 58.6 s\n"
     ]
    },
    {
     "data": {
      "text/plain": [
       "GridSearchCV(cv=5, error_score='raise',\n",
       "       estimator=RandomForestClassifier(bootstrap=True, class_weight={'1': 1, '0': 3.6},\n",
       "            criterion='gini', max_depth=5, max_features='sqrt',\n",
       "            max_leaf_nodes=None, min_impurity_split=1e-07,\n",
       "            min_samples_leaf=50, min_samples_split=140,\n",
       "            min_weight_fraction_leaf=0.0, n_estimators=1000, n_jobs=1,\n",
       "            oob_score=False, random_state=10, verbose=0, warm_start=False),\n",
       "       fit_params={}, iid=False, n_jobs=4,\n",
       "       param_grid={'n_estimators': [60, 70, 80, 90, 100, 110, 120, 130, 140, 150, 160, 170, 180, 190, 200]},\n",
       "       pre_dispatch='2*n_jobs', refit=True, return_train_score=True,\n",
       "       scoring=None, verbose=0)"
      ]
     },
     "execution_count": 284,
     "metadata": {},
     "output_type": "execute_result"
    }
   ],
   "source": [
    "#调节下训练树的棵树n_estimators\n",
    "gsearch_rf5 = GridSearchCV(estimator = RandomForestClassifier(n_estimators=1000,max_depth=5,min_samples_leaf=50,\n",
    "                                                 min_samples_split=140,class_weight={'0':3.6,'1':1},max_features='sqrt', random_state=10), \n",
    "                       param_grid = param_test5,n_jobs=4,iid=False, cv=5)\n",
    "%time gsearch_rf5.fit(x_train,y_train)"
   ]
  },
  {
   "cell_type": "code",
   "execution_count": 280,
   "metadata": {
    "collapsed": false
   },
   "outputs": [
    {
     "data": {
      "text/plain": [
       "({'n_estimators': 100}, 0.6892561983471075)"
      ]
     },
     "execution_count": 280,
     "metadata": {},
     "output_type": "execute_result"
    }
   ],
   "source": [
    "#查看当前最优参数\n",
    "gsearch_rf5.best_params_,gsearch_rf5.best_score_"
   ]
  },
  {
   "cell_type": "code",
   "execution_count": 289,
   "metadata": {
    "collapsed": false
   },
   "outputs": [
    {
     "name": "stdout",
     "output_type": "stream",
     "text": [
      "\n",
      "Model Report\n",
      "Accuracy : 0.8264\n",
      "roc_auc_score : 0.707768\n",
      "             precision    recall  f1-score   support\n",
      "\n",
      "          0       0.46      0.15      0.23      1025\n",
      "          1       0.85      0.96      0.90      5025\n",
      "\n",
      "avg / total       0.78      0.83      0.79      6050\n",
      "\n",
      "CV Score : Mean - 0.812562 | Std - 0.005131959 | Min - 0.8041322 | Max - 0.8198347\n"
     ]
    },
    {
     "data": {
      "image/png": "[encoded data removed]",
      "text/plain": [
       "<matplotlib.figure.Figure at 0x134a7198>"
      ]
     },
     "metadata": {},
     "output_type": "display_data"
    }
   ],
   "source": [
    "#拟合当前模型，查看结果\n",
    "modelfit(gsearch_rf1.best_estimator_,x_train,y_train,predictors,1,0.8,0,skf)"
   ]
  },
  {
   "cell_type": "code",
   "execution_count": 215,
   "metadata": {
    "collapsed": true
   },
   "outputs": [],
   "source": [
    "#结果输出函数\n",
    "def learn(x, y, flag,m,n,test_x,test_y):\n",
    "    # set sample weight（类别权重）\n",
    "    weight_0=m\n",
    "    weight_1=n\n",
    "\n",
    "    weight_list = []\n",
    "    for j in range(len(y)):\n",
    "        if y[j] == '0':\n",
    "            weight_list.append(weight_0)\n",
    "        if y[j] == '1':\n",
    "            weight_list.append(weight_1)\n",
    "    if flag==1:\n",
    "        #梯度提升决策树（gbm_tuned_1为调参好后的模型，可以改为其它的基线模型如gbm0等）\n",
    "        clf = gbm_tuned_1.fit(x, y, weight_list)\n",
    "        prediction_list = clf.predict(test_x)\n",
    "        accuracy=metrics.accuracy_score(test_y,prediction_list)\n",
    "    else:\n",
    "        #随机森林（调参后的模型）因为随机森林里有class_weight参数，可以不拟合weight_list;根据需要选择注释以下其中一项，\n",
    "        #clf = gsearch_rf5.best_estimator_.fit(x, y, weight_list)\n",
    "        clf = gsearch_rf5.best_estimator_.fit(x, y)\n",
    "        \n",
    "        prediction_list = clf.predict(test_x)\n",
    "        accuracy=metrics.accuracy_score(test_y,prediction_list)\n",
    "    return prediction_list,accuracy"
   ]
  },
  {
   "cell_type": "code",
   "execution_count": 216,
   "metadata": {
    "collapsed": true
   },
   "outputs": [],
   "source": [
    "#输出结果去准确率\n",
    "result_pred,accuracy=learn(x_train,y_train,1,3.6,1,x_test,y_test)"
   ]
  },
  {
   "cell_type": "code",
   "execution_count": 217,
   "metadata": {
    "collapsed": false
   },
   "outputs": [
    {
     "data": {
      "text/html": [
       "<div>\n",
       "<table border=\"1\" class=\"dataframe\">\n",
       "  <thead>\n",
       "    <tr style=\"text-align: right;\">\n",
       "      <th></th>\n",
       "      <th>sno</th>\n",
       "      <th>zf</th>\n",
       "      <th>tdf</th>\n",
       "      <th>female</th>\n",
       "      <th>male</th>\n",
       "      <th>ncyj</th>\n",
       "      <th>ncwj</th>\n",
       "      <th>czyj</th>\n",
       "      <th>czwj</th>\n",
       "      <th>ks_is_jf</th>\n",
       "      <th>...</th>\n",
       "      <th>zfdj</th>\n",
       "      <th>zf_yb_d</th>\n",
       "      <th>zf_lqf_d</th>\n",
       "      <th>zf_pjf_d</th>\n",
       "      <th>zy_fs_pm</th>\n",
       "      <th>poor_levlel</th>\n",
       "      <th>is_poor</th>\n",
       "      <th>jyzk</th>\n",
       "      <th>is_psy_warning</th>\n",
       "      <th>zy_pjf</th>\n",
       "    </tr>\n",
       "  </thead>\n",
       "  <tbody>\n",
       "    <tr>\n",
       "      <th>534</th>\n",
       "      <td>2012210723</td>\n",
       "      <td>0</td>\n",
       "      <td>0</td>\n",
       "      <td>0</td>\n",
       "      <td>1</td>\n",
       "      <td>0</td>\n",
       "      <td>0</td>\n",
       "      <td>1</td>\n",
       "      <td>0</td>\n",
       "      <td>1</td>\n",
       "      <td>...</td>\n",
       "      <td>4</td>\n",
       "      <td>0</td>\n",
       "      <td>0</td>\n",
       "      <td>0</td>\n",
       "      <td>208</td>\n",
       "      <td>4.0</td>\n",
       "      <td>0</td>\n",
       "      <td>0</td>\n",
       "      <td>0</td>\n",
       "      <td>0</td>\n",
       "    </tr>\n",
       "    <tr>\n",
       "      <th>2115</th>\n",
       "      <td>2012211811</td>\n",
       "      <td>492</td>\n",
       "      <td>512</td>\n",
       "      <td>0</td>\n",
       "      <td>1</td>\n",
       "      <td>0</td>\n",
       "      <td>0</td>\n",
       "      <td>1</td>\n",
       "      <td>0</td>\n",
       "      <td>0</td>\n",
       "      <td>...</td>\n",
       "      <td>2</td>\n",
       "      <td>-28</td>\n",
       "      <td>-3</td>\n",
       "      <td>-29</td>\n",
       "      <td>476</td>\n",
       "      <td>4.0</td>\n",
       "      <td>0</td>\n",
       "      <td>0</td>\n",
       "      <td>0</td>\n",
       "      <td>521</td>\n",
       "    </tr>\n",
       "    <tr>\n",
       "      <th>20</th>\n",
       "      <td>2012210032</td>\n",
       "      <td>517</td>\n",
       "      <td>537</td>\n",
       "      <td>0</td>\n",
       "      <td>1</td>\n",
       "      <td>1</td>\n",
       "      <td>0</td>\n",
       "      <td>0</td>\n",
       "      <td>0</td>\n",
       "      <td>0</td>\n",
       "      <td>...</td>\n",
       "      <td>3</td>\n",
       "      <td>-22</td>\n",
       "      <td>-13</td>\n",
       "      <td>-1</td>\n",
       "      <td>248</td>\n",
       "      <td>4.0</td>\n",
       "      <td>0</td>\n",
       "      <td>0</td>\n",
       "      <td>0</td>\n",
       "      <td>518</td>\n",
       "    </tr>\n",
       "    <tr>\n",
       "      <th>4244</th>\n",
       "      <td>2012214630</td>\n",
       "      <td>394</td>\n",
       "      <td>414</td>\n",
       "      <td>0</td>\n",
       "      <td>1</td>\n",
       "      <td>0</td>\n",
       "      <td>0</td>\n",
       "      <td>1</td>\n",
       "      <td>0</td>\n",
       "      <td>0</td>\n",
       "      <td>...</td>\n",
       "      <td>3</td>\n",
       "      <td>-7</td>\n",
       "      <td>38</td>\n",
       "      <td>-113</td>\n",
       "      <td>45</td>\n",
       "      <td>4.0</td>\n",
       "      <td>0</td>\n",
       "      <td>0</td>\n",
       "      <td>0</td>\n",
       "      <td>507</td>\n",
       "    </tr>\n",
       "    <tr>\n",
       "      <th>433</th>\n",
       "      <td>2012210556</td>\n",
       "      <td>493</td>\n",
       "      <td>493</td>\n",
       "      <td>0</td>\n",
       "      <td>1</td>\n",
       "      <td>0</td>\n",
       "      <td>1</td>\n",
       "      <td>0</td>\n",
       "      <td>0</td>\n",
       "      <td>1</td>\n",
       "      <td>...</td>\n",
       "      <td>3</td>\n",
       "      <td>1</td>\n",
       "      <td>0</td>\n",
       "      <td>-52</td>\n",
       "      <td>41</td>\n",
       "      <td>4.0</td>\n",
       "      <td>0</td>\n",
       "      <td>0</td>\n",
       "      <td>0</td>\n",
       "      <td>545</td>\n",
       "    </tr>\n",
       "  </tbody>\n",
       "</table>\n",
       "<p>5 rows × 27 columns</p>\n",
       "</div>"
      ],
      "text/plain": [
       "             sno   zf  tdf female male ncyj ncwj czyj czwj ks_is_jf  ...    \\\n",
       "534   2012210723    0    0      0    1    0    0    1    0        1  ...     \n",
       "2115  2012211811  492  512      0    1    0    0    1    0        0  ...     \n",
       "20    2012210032  517  537      0    1    1    0    0    0        0  ...     \n",
       "4244  2012214630  394  414      0    1    0    0    1    0        0  ...     \n",
       "433   2012210556  493  493      0    1    0    1    0    0        1  ...     \n",
       "\n",
       "     zfdj zf_yb_d zf_lqf_d zf_pjf_d zy_fs_pm poor_levlel is_poor jyzk  \\\n",
       "534     4       0        0        0      208         4.0       0    0   \n",
       "2115    2     -28       -3      -29      476         4.0       0    0   \n",
       "20      3     -22      -13       -1      248         4.0       0    0   \n",
       "4244    3      -7       38     -113       45         4.0       0    0   \n",
       "433     3       1        0      -52       41         4.0       0    0   \n",
       "\n",
       "     is_psy_warning zy_pjf  \n",
       "534               0      0  \n",
       "2115              0    521  \n",
       "20                0    518  \n",
       "4244              0    507  \n",
       "433               0    545  \n",
       "\n",
       "[5 rows x 27 columns]"
      ]
     },
     "execution_count": 217,
     "metadata": {},
     "output_type": "execute_result"
    }
   ],
   "source": [
    "#查看'jyzk'预测为0的的个数中多少是正确的\n",
    "pred=pd.Series(result_pred,index=x_test.index)\n",
    "ind=[]\n",
    "for i in pred.index:\n",
    "    if pred[i]=='0':\n",
    "        ind.append(i)\n",
    "pred_all=train_data.ix[ind]\n",
    "pred_true=pred_all[pred_all['jyzk']==0]\n",
    "pred_true.head()\n"
   ]
  },
  {
   "cell_type": "code",
   "execution_count": 258,
   "metadata": {
    "collapsed": false
   },
   "outputs": [
    {
     "data": {
      "text/plain": [
       "1    916\n",
       "0    169\n",
       "dtype: int64"
      ]
     },
     "execution_count": 258,
     "metadata": {},
     "output_type": "execute_result"
    }
   ],
   "source": [
    "#查看模型的预测出的各类的人数统计\n",
    "pred.value_counts()"
   ]
  },
  {
   "cell_type": "code",
   "execution_count": 257,
   "metadata": {
    "collapsed": false
   },
   "outputs": [
    {
     "data": {
      "text/plain": [
       "48"
      ]
     },
     "execution_count": 257,
     "metadata": {},
     "output_type": "execute_result"
    }
   ],
   "source": [
    "#预测为0的是正确的个数\n",
    "true_num_0=len(pred_true)\n",
    "true_num_0"
   ]
  },
  {
   "cell_type": "code",
   "execution_count": 231,
   "metadata": {
    "collapsed": false
   },
   "outputs": [],
   "source": [
    "#获取测试集学生的学号\n",
    "pred_out=pd.Series(train_data.ix[x_test.index]['sno'])\n",
    "#以测试集学生的学号新建一个表\n",
    "result=pd.DataFrame(pred_out.values,columns=['sno'],index=range(len(pred_out)))\n",
    "#预测结果\n",
    "result['jyzk']=result_pred"
   ]
  },
  {
   "cell_type": "code",
   "execution_count": 246,
   "metadata": {
    "collapsed": false
   },
   "outputs": [
    {
     "data": {
      "text/plain": [
       "1    916\n",
       "0    169\n",
       "Name: jyzk, dtype: int64"
      ]
     },
     "execution_count": 246,
     "metadata": {},
     "output_type": "execute_result"
    }
   ],
   "source": [
    "result['jyzk'].value_counts()"
   ]
  },
  {
   "cell_type": "code",
   "execution_count": 248,
   "metadata": {
    "collapsed": false
   },
   "outputs": [
    {
     "data": {
      "text/html": [
       "<div>\n",
       "<table border=\"1\" class=\"dataframe\">\n",
       "  <thead>\n",
       "    <tr style=\"text-align: right;\">\n",
       "      <th></th>\n",
       "      <th>sno</th>\n",
       "      <th>jyzk</th>\n",
       "    </tr>\n",
       "  </thead>\n",
       "  <tbody>\n",
       "    <tr>\n",
       "      <th>0</th>\n",
       "      <td>2012214407</td>\n",
       "      <td>1</td>\n",
       "    </tr>\n",
       "    <tr>\n",
       "      <th>1</th>\n",
       "      <td>2012215891</td>\n",
       "      <td>1</td>\n",
       "    </tr>\n",
       "    <tr>\n",
       "      <th>2</th>\n",
       "      <td>2012210206</td>\n",
       "      <td>1</td>\n",
       "    </tr>\n",
       "    <tr>\n",
       "      <th>3</th>\n",
       "      <td>2012213186</td>\n",
       "      <td>1</td>\n",
       "    </tr>\n",
       "    <tr>\n",
       "      <th>4</th>\n",
       "      <td>2012210577</td>\n",
       "      <td>1</td>\n",
       "    </tr>\n",
       "  </tbody>\n",
       "</table>\n",
       "</div>"
      ],
      "text/plain": [
       "          sno jyzk\n",
       "0  2012214407    1\n",
       "1  2012215891    1\n",
       "2  2012210206    1\n",
       "3  2012213186    1\n",
       "4  2012210577    1"
      ]
     },
     "execution_count": 248,
     "metadata": {},
     "output_type": "execute_result"
    }
   ],
   "source": [
    "result.head()"
   ]
  },
  {
   "cell_type": "code",
   "execution_count": 259,
   "metadata": {
    "collapsed": true
   },
   "outputs": [],
   "source": [
    "#保存数据\n",
    "result.to_csv('output_result/result.csv',index=False)"
   ]
  },
  {
   "cell_type": "code",
   "execution_count": null,
   "metadata": {
    "collapsed": true
   },
   "outputs": [],
   "source": []
  }
 ],
 "metadata": {
  "kernelspec": {
   "display_name": "Python [py2]",
   "language": "python",
   "name": "Python [py2]"
  },
  "language_info": {
   "codemirror_mode": {
    "name": "ipython",
    "version": 2
   },
   "file_extension": ".py",
   "mimetype": "text/x-python",
   "name": "python",
   "nbconvert_exporter": "python",
   "pygments_lexer": "ipython2",
   "version": "2.7.12"
  }
 },
 "nbformat": 4,
 "nbformat_minor": 0
}
