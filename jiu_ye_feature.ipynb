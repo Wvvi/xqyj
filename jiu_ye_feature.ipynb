{
 "cells": [
  {
   "cell_type": "code",
   "execution_count": 1,
   "metadata": {
    "collapsed": true
   },
   "outputs": [],
   "source": [
    "import pandas as pd \n",
    "import numpy as np"
   ]
  },
  {
   "cell_type": "code",
   "execution_count": 44,
   "metadata": {
    "collapsed": true
   },
   "outputs": [],
   "source": [
    "#数据路径\n",
    "\n",
    "path='F:/weiwei/xue_qian_yu_jing/xqyj_data'\n",
    "\n",
    "#学生就业信息\n",
    "\n",
    "by_data=pd.read_csv(path+'/2012PQFA.csv',encoding='gbk')"
   ]
  },
  {
   "cell_type": "code",
   "execution_count": 45,
   "metadata": {
    "collapsed": false
   },
   "outputs": [
    {
     "data": {
      "text/html": [
       "<div>\n",
       "<table border=\"1\" class=\"dataframe\">\n",
       "  <thead>\n",
       "    <tr style=\"text-align: right;\">\n",
       "      <th></th>\n",
       "      <th>id</th>\n",
       "      <th>xh</th>\n",
       "      <th>xb</th>\n",
       "      <th>xy</th>\n",
       "      <th>zy</th>\n",
       "      <th>mz</th>\n",
       "      <th>jyzk</th>\n",
       "      <th>jydwqk</th>\n",
       "      <th>jydwxz</th>\n",
       "      <th>dydwhy</th>\n",
       "      <th>jydwszd</th>\n",
       "      <th>dwlxr</th>\n",
       "    </tr>\n",
       "  </thead>\n",
       "  <tbody>\n",
       "    <tr>\n",
       "      <th>0</th>\n",
       "      <td>1</td>\n",
       "      <td>11011009</td>\n",
       "      <td>男</td>\n",
       "      <td>法学院</td>\n",
       "      <td>法学</td>\n",
       "      <td>土家族</td>\n",
       "      <td>灵活就业</td>\n",
       "      <td>富士施乐高科技（深圳）有限公司银星工厂</td>\n",
       "      <td>其他企业</td>\n",
       "      <td>科学研究和技术服务业</td>\n",
       "      <td>广东省深圳市市辖区</td>\n",
       "      <td>单位负责人</td>\n",
       "    </tr>\n",
       "    <tr>\n",
       "      <th>1</th>\n",
       "      <td>2</td>\n",
       "      <td>2012213477</td>\n",
       "      <td>男</td>\n",
       "      <td>计算机科学学院</td>\n",
       "      <td>自动化</td>\n",
       "      <td>苗族</td>\n",
       "      <td>就业</td>\n",
       "      <td>TCL王牌电器（惠州）有限公司</td>\n",
       "      <td>其他企业</td>\n",
       "      <td>制造业</td>\n",
       "      <td>广东省惠州市惠城区</td>\n",
       "      <td>吉郭菲</td>\n",
       "    </tr>\n",
       "    <tr>\n",
       "      <th>2</th>\n",
       "      <td>3</td>\n",
       "      <td>11011201</td>\n",
       "      <td>男</td>\n",
       "      <td>法学院</td>\n",
       "      <td>法学</td>\n",
       "      <td>藏族</td>\n",
       "      <td>待就业</td>\n",
       "      <td>NaN</td>\n",
       "      <td>待就业</td>\n",
       "      <td>NaN</td>\n",
       "      <td>NaN</td>\n",
       "      <td>NaN</td>\n",
       "    </tr>\n",
       "    <tr>\n",
       "      <th>3</th>\n",
       "      <td>4</td>\n",
       "      <td>11012034</td>\n",
       "      <td>男</td>\n",
       "      <td>法学院</td>\n",
       "      <td>政治学与行政学</td>\n",
       "      <td>蒙古族</td>\n",
       "      <td>自主创业</td>\n",
       "      <td>武汉至臻恒远网络技术有限公司</td>\n",
       "      <td>自主创业</td>\n",
       "      <td>信息传输、软件和信息技术服务业</td>\n",
       "      <td>湖北省武汉市武昌区</td>\n",
       "      <td>NaN</td>\n",
       "    </tr>\n",
       "    <tr>\n",
       "      <th>4</th>\n",
       "      <td>5</td>\n",
       "      <td>11012059</td>\n",
       "      <td>女</td>\n",
       "      <td>法学院</td>\n",
       "      <td>政治学与行政学</td>\n",
       "      <td>彝族</td>\n",
       "      <td>灵活就业</td>\n",
       "      <td>成都三加一教育咨询有限公司凉山分公司</td>\n",
       "      <td>中初教育</td>\n",
       "      <td>教育</td>\n",
       "      <td>四川省成都市市辖区</td>\n",
       "      <td>工作人员</td>\n",
       "    </tr>\n",
       "  </tbody>\n",
       "</table>\n",
       "</div>"
      ],
      "text/plain": [
       "   id          xh xb       xy       zy   mz  jyzk               jydwqk jydwxz  \\\n",
       "0   1    11011009  男      法学院       法学  土家族  灵活就业  富士施乐高科技（深圳）有限公司银星工厂   其他企业   \n",
       "1   2  2012213477  男  计算机科学学院      自动化   苗族    就业      TCL王牌电器（惠州）有限公司   其他企业   \n",
       "2   3    11011201  男      法学院       法学   藏族   待就业                  NaN    待就业   \n",
       "3   4    11012034  男      法学院  政治学与行政学  蒙古族  自主创业       武汉至臻恒远网络技术有限公司   自主创业   \n",
       "4   5    11012059  女      法学院  政治学与行政学   彝族  灵活就业   成都三加一教育咨询有限公司凉山分公司   中初教育   \n",
       "\n",
       "            dydwhy    jydwszd  dwlxr  \n",
       "0       科学研究和技术服务业  广东省深圳市市辖区  单位负责人  \n",
       "1              制造业  广东省惠州市惠城区    吉郭菲  \n",
       "2              NaN        NaN    NaN  \n",
       "3  信息传输、软件和信息技术服务业  湖北省武汉市武昌区    NaN  \n",
       "4               教育  四川省成都市市辖区   工作人员  "
      ]
     },
     "execution_count": 45,
     "metadata": {},
     "output_type": "execute_result"
    }
   ],
   "source": [
    "by_data.head()"
   ]
  },
  {
   "cell_type": "code",
   "execution_count": 46,
   "metadata": {
    "collapsed": false
   },
   "outputs": [
    {
     "data": {
      "text/plain": [
       "就业       2616\n",
       "灵活就业     1223\n",
       "升学        806\n",
       "待就业       647\n",
       "自由职业      274\n",
       "出国、出境     178\n",
       "自主创业       41\n",
       "其他企业        1\n",
       "嗲就业         1\n",
       "Name: jyzk, dtype: int64"
      ]
     },
     "execution_count": 46,
     "metadata": {},
     "output_type": "execute_result"
    }
   ],
   "source": [
    "#查看jyzk这一列的类别统计数量\n",
    "by_data['jyzk'].value_counts()"
   ]
  },
  {
   "cell_type": "code",
   "execution_count": 47,
   "metadata": {
    "collapsed": false
   },
   "outputs": [
    {
     "data": {
      "text/plain": [
       "5787"
      ]
     },
     "execution_count": 47,
     "metadata": {},
     "output_type": "execute_result"
    }
   ],
   "source": [
    "len(by_data)"
   ]
  },
  {
   "cell_type": "code",
   "execution_count": 49,
   "metadata": {
    "collapsed": true
   },
   "outputs": [],
   "source": [
    "#删除无用列\n",
    "\n",
    "X=[x for x in by_data.columns if x not in ['xh','jyzk']]\n",
    "jy_feature=by_data.drop(X,axis=1)"
   ]
  },
  {
   "cell_type": "code",
   "execution_count": 50,
   "metadata": {
    "collapsed": false
   },
   "outputs": [
    {
     "data": {
      "text/html": [
       "<div>\n",
       "<table border=\"1\" class=\"dataframe\">\n",
       "  <thead>\n",
       "    <tr style=\"text-align: right;\">\n",
       "      <th></th>\n",
       "      <th>xh</th>\n",
       "      <th>jyzk</th>\n",
       "    </tr>\n",
       "  </thead>\n",
       "  <tbody>\n",
       "    <tr>\n",
       "      <th>0</th>\n",
       "      <td>11011009</td>\n",
       "      <td>灵活就业</td>\n",
       "    </tr>\n",
       "    <tr>\n",
       "      <th>1</th>\n",
       "      <td>2012213477</td>\n",
       "      <td>就业</td>\n",
       "    </tr>\n",
       "    <tr>\n",
       "      <th>2</th>\n",
       "      <td>11011201</td>\n",
       "      <td>待就业</td>\n",
       "    </tr>\n",
       "    <tr>\n",
       "      <th>3</th>\n",
       "      <td>11012034</td>\n",
       "      <td>自主创业</td>\n",
       "    </tr>\n",
       "    <tr>\n",
       "      <th>4</th>\n",
       "      <td>11012059</td>\n",
       "      <td>灵活就业</td>\n",
       "    </tr>\n",
       "  </tbody>\n",
       "</table>\n",
       "</div>"
      ],
      "text/plain": [
       "           xh  jyzk\n",
       "0    11011009  灵活就业\n",
       "1  2012213477    就业\n",
       "2    11011201   待就业\n",
       "3    11012034  自主创业\n",
       "4    11012059  灵活就业"
      ]
     },
     "execution_count": 50,
     "metadata": {},
     "output_type": "execute_result"
    }
   ],
   "source": [
    "jy_feature.head()"
   ]
  },
  {
   "cell_type": "code",
   "execution_count": 51,
   "metadata": {
    "collapsed": true
   },
   "outputs": [],
   "source": [
    "#把就业状况为待就业的置零，其余的置1\n",
    "def jyzk(x):\n",
    "    if x=='待就业':\n",
    "        return 0\n",
    "    else:\n",
    "        return 1\n",
    "jy_feature['jyzk']=jy_feature['jyzk'].apply(jyzk)"
   ]
  },
  {
   "cell_type": "code",
   "execution_count": 52,
   "metadata": {
    "collapsed": false
   },
   "outputs": [],
   "source": [
    "#去除11届的学生（因为没有者部分学生的入学数据）\n",
    "def xh(x):\n",
    "    if len(str(x))<10:\n",
    "        return 'a'\n",
    "    else:\n",
    "        return x\n",
    "    \n",
    "jy_feature['xh']=jy_feature['xh'].apply(xh)\n",
    "a=jy_feature[jy_feature['xh']=='a'].index\n",
    "x=[x for x in range(len(jy_feature)) if x not in a]\n",
    "jy_feature_f=jy_feature.ix[x]"
   ]
  },
  {
   "cell_type": "code",
   "execution_count": 59,
   "metadata": {
    "collapsed": false
   },
   "outputs": [
    {
     "data": {
      "text/html": [
       "<div>\n",
       "<table border=\"1\" class=\"dataframe\">\n",
       "  <thead>\n",
       "    <tr style=\"text-align: right;\">\n",
       "      <th></th>\n",
       "      <th>xh</th>\n",
       "      <th>jyzk</th>\n",
       "    </tr>\n",
       "  </thead>\n",
       "  <tbody>\n",
       "    <tr>\n",
       "      <th>1</th>\n",
       "      <td>2012213477</td>\n",
       "      <td>1</td>\n",
       "    </tr>\n",
       "    <tr>\n",
       "      <th>5</th>\n",
       "      <td>2012210001</td>\n",
       "      <td>1</td>\n",
       "    </tr>\n",
       "    <tr>\n",
       "      <th>6</th>\n",
       "      <td>2012215888</td>\n",
       "      <td>1</td>\n",
       "    </tr>\n",
       "    <tr>\n",
       "      <th>7</th>\n",
       "      <td>2012210003</td>\n",
       "      <td>0</td>\n",
       "    </tr>\n",
       "    <tr>\n",
       "      <th>8</th>\n",
       "      <td>2012210257</td>\n",
       "      <td>1</td>\n",
       "    </tr>\n",
       "  </tbody>\n",
       "</table>\n",
       "</div>"
      ],
      "text/plain": [
       "           xh  jyzk\n",
       "1  2012213477     1\n",
       "5  2012210001     1\n",
       "6  2012215888     1\n",
       "7  2012210003     0\n",
       "8  2012210257     1"
      ]
     },
     "execution_count": 59,
     "metadata": {},
     "output_type": "execute_result"
    }
   ],
   "source": [
    "jy_feature_f.head()"
   ]
  },
  {
   "cell_type": "code",
   "execution_count": 60,
   "metadata": {
    "collapsed": true
   },
   "outputs": [],
   "source": [
    "#保存文件\n",
    "jy_feature_f.to_csv('jy_data/jy_feature.csv',index=False)"
   ]
  },
  {
   "cell_type": "code",
   "execution_count": null,
   "metadata": {
    "collapsed": true
   },
   "outputs": [],
   "source": []
  }
 ],
 "metadata": {
  "anaconda-cloud": {},
  "kernelspec": {
   "display_name": "Python [py2]",
   "language": "python",
   "name": "Python [py2]"
  },
  "language_info": {
   "codemirror_mode": {
    "name": "ipython",
    "version": 2
   },
   "file_extension": ".py",
   "mimetype": "text/x-python",
   "name": "python",
   "nbconvert_exporter": "python",
   "pygments_lexer": "ipython2",
   "version": "2.7.12"
  }
 },
 "nbformat": 4,
 "nbformat_minor": 0
}
