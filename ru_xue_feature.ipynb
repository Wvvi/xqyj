{
 "cells": [
  {
   "cell_type": "code",
   "execution_count": 1,
   "metadata": {
    "collapsed": true
   },
   "outputs": [],
   "source": [
    "import pandas as pd \n",
    "import numpy as np\n",
    "\n",
    "import matplotlib.pyplot as plt \n",
    "import matplotlib.image as maping\n",
    "%matplotlib inline"
   ]
  },
  {
   "cell_type": "code",
   "execution_count": 13,
   "metadata": {
    "collapsed": false
   },
   "outputs": [],
   "source": [
    "#数据路径\n",
    "\n",
    "path='F:/weiwei/xue_qian_yu_jing/xqyj_data'\n",
    "\n",
    "#学生入学信息\n",
    "\n",
    "rx_data=pd.read_csv(path+'/2012LQCJ.csv',encoding='gbk')"
   ]
  },
  {
   "cell_type": "code",
   "execution_count": 14,
   "metadata": {
    "collapsed": false
   },
   "outputs": [
    {
     "data": {
      "text/html": [
       "<div>\n",
       "<table border=\"1\" class=\"dataframe\">\n",
       "  <thead>\n",
       "    <tr style=\"text-align: right;\">\n",
       "      <th></th>\n",
       "      <th>id</th>\n",
       "      <th>xh</th>\n",
       "      <th>ksh</th>\n",
       "      <th>xb</th>\n",
       "      <th>mz</th>\n",
       "      <th>zy</th>\n",
       "      <th>zzmm</th>\n",
       "      <th>kslx</th>\n",
       "      <th>dq</th>\n",
       "      <th>zf</th>\n",
       "      <th>tdf</th>\n",
       "      <th>jg</th>\n",
       "      <th>xy</th>\n",
       "      <th>bz</th>\n",
       "    </tr>\n",
       "  </thead>\n",
       "  <tbody>\n",
       "    <tr>\n",
       "      <th>0</th>\n",
       "      <td>1</td>\n",
       "      <td>2012210001</td>\n",
       "      <td>12140829110130</td>\n",
       "      <td>女</td>\n",
       "      <td>汉族</td>\n",
       "      <td>法学</td>\n",
       "      <td>共青团员</td>\n",
       "      <td>城镇往届</td>\n",
       "      <td>山西运城市盐湖区</td>\n",
       "      <td>533</td>\n",
       "      <td>533</td>\n",
       "      <td>山西</td>\n",
       "      <td>法学院</td>\n",
       "      <td>NaN</td>\n",
       "    </tr>\n",
       "    <tr>\n",
       "      <th>1</th>\n",
       "      <td>2</td>\n",
       "      <td>2012210002</td>\n",
       "      <td>12152301151762</td>\n",
       "      <td>女</td>\n",
       "      <td>蒙古族</td>\n",
       "      <td>法学</td>\n",
       "      <td>共青团员</td>\n",
       "      <td>城镇应届</td>\n",
       "      <td>内蒙科尔沁区</td>\n",
       "      <td>484</td>\n",
       "      <td>494</td>\n",
       "      <td>内蒙古</td>\n",
       "      <td>法学院</td>\n",
       "      <td>NaN</td>\n",
       "    </tr>\n",
       "    <tr>\n",
       "      <th>2</th>\n",
       "      <td>3</td>\n",
       "      <td>2012210003</td>\n",
       "      <td>12220204110242</td>\n",
       "      <td>女</td>\n",
       "      <td>汉族</td>\n",
       "      <td>法学</td>\n",
       "      <td>共青团员</td>\n",
       "      <td>城镇应届</td>\n",
       "      <td>吉林船营区</td>\n",
       "      <td>520</td>\n",
       "      <td>520</td>\n",
       "      <td>吉林</td>\n",
       "      <td>法学院</td>\n",
       "      <td>NaN</td>\n",
       "    </tr>\n",
       "    <tr>\n",
       "      <th>3</th>\n",
       "      <td>4</td>\n",
       "      <td>2012210004</td>\n",
       "      <td>12342221112350</td>\n",
       "      <td>女</td>\n",
       "      <td>汉族</td>\n",
       "      <td>法学</td>\n",
       "      <td>共青团员</td>\n",
       "      <td>城镇往届</td>\n",
       "      <td>安徽宿州砀山县</td>\n",
       "      <td>578</td>\n",
       "      <td>578</td>\n",
       "      <td>安徽</td>\n",
       "      <td>法学院</td>\n",
       "      <td>NaN</td>\n",
       "    </tr>\n",
       "    <tr>\n",
       "      <th>4</th>\n",
       "      <td>5</td>\n",
       "      <td>2012210005</td>\n",
       "      <td>12361005110362</td>\n",
       "      <td>女</td>\n",
       "      <td>汉族</td>\n",
       "      <td>法学</td>\n",
       "      <td>共青团员</td>\n",
       "      <td>城镇往届</td>\n",
       "      <td>江西大余县</td>\n",
       "      <td>566</td>\n",
       "      <td>566</td>\n",
       "      <td>江西</td>\n",
       "      <td>法学院</td>\n",
       "      <td>NaN</td>\n",
       "    </tr>\n",
       "  </tbody>\n",
       "</table>\n",
       "</div>"
      ],
      "text/plain": [
       "   id          xh             ksh xb   mz  zy  zzmm  kslx        dq   zf  tdf  \\\n",
       "0   1  2012210001  12140829110130  女   汉族  法学  共青团员  城镇往届  山西运城市盐湖区  533  533   \n",
       "1   2  2012210002  12152301151762  女  蒙古族  法学  共青团员  城镇应届    内蒙科尔沁区  484  494   \n",
       "2   3  2012210003  12220204110242  女   汉族  法学  共青团员  城镇应届     吉林船营区  520  520   \n",
       "3   4  2012210004  12342221112350  女   汉族  法学  共青团员  城镇往届   安徽宿州砀山县  578  578   \n",
       "4   5  2012210005  12361005110362  女   汉族  法学  共青团员  城镇往届     江西大余县  566  566   \n",
       "\n",
       "    jg   xy   bz  \n",
       "0   山西  法学院  NaN  \n",
       "1  内蒙古  法学院  NaN  \n",
       "2   吉林  法学院  NaN  \n",
       "3   安徽  法学院  NaN  \n",
       "4   江西  法学院  NaN  "
      ]
     },
     "execution_count": 14,
     "metadata": {},
     "output_type": "execute_result"
    }
   ],
   "source": [
    "rx_data.head() "
   ]
  },
  {
   "cell_type": "code",
   "execution_count": 15,
   "metadata": {
    "collapsed": true
   },
   "outputs": [],
   "source": [
    "#对性别热编码\n",
    "xb_dummies=pd.get_dummies(rx_data['xb'])\n",
    "xb_dummies.columns=['female','male']\n",
    "rx_data=rx_data.join(xb_dummies)"
   ]
  },
  {
   "cell_type": "code",
   "execution_count": 16,
   "metadata": {
    "collapsed": false
   },
   "outputs": [],
   "source": [
    "#对kslx热编码\n",
    "\n",
    "kslx_dummies=pd.get_dummies(rx_data['kslx'])\n",
    "kslx_dummies.columns=['ncyj','ncwj','czyj','czwj']\n",
    "rx_data=rx_data.join(kslx_dummies)"
   ]
  },
  {
   "cell_type": "code",
   "execution_count": 17,
   "metadata": {
    "collapsed": false
   },
   "outputs": [
    {
     "data": {
      "text/html": [
       "<div>\n",
       "<table border=\"1\" class=\"dataframe\">\n",
       "  <thead>\n",
       "    <tr style=\"text-align: right;\">\n",
       "      <th></th>\n",
       "      <th>id</th>\n",
       "      <th>xh</th>\n",
       "      <th>ksh</th>\n",
       "      <th>xb</th>\n",
       "      <th>mz</th>\n",
       "      <th>zy</th>\n",
       "      <th>zzmm</th>\n",
       "      <th>kslx</th>\n",
       "      <th>dq</th>\n",
       "      <th>zf</th>\n",
       "      <th>tdf</th>\n",
       "      <th>jg</th>\n",
       "      <th>xy</th>\n",
       "      <th>bz</th>\n",
       "      <th>female</th>\n",
       "      <th>male</th>\n",
       "      <th>ncyj</th>\n",
       "      <th>ncwj</th>\n",
       "      <th>czyj</th>\n",
       "      <th>czwj</th>\n",
       "    </tr>\n",
       "  </thead>\n",
       "  <tbody>\n",
       "    <tr>\n",
       "      <th>0</th>\n",
       "      <td>1</td>\n",
       "      <td>2012210001</td>\n",
       "      <td>12140829110130</td>\n",
       "      <td>女</td>\n",
       "      <td>汉族</td>\n",
       "      <td>法学</td>\n",
       "      <td>共青团员</td>\n",
       "      <td>城镇往届</td>\n",
       "      <td>山西运城市盐湖区</td>\n",
       "      <td>533</td>\n",
       "      <td>533</td>\n",
       "      <td>山西</td>\n",
       "      <td>法学院</td>\n",
       "      <td>NaN</td>\n",
       "      <td>1</td>\n",
       "      <td>0</td>\n",
       "      <td>0</td>\n",
       "      <td>0</td>\n",
       "      <td>0</td>\n",
       "      <td>1</td>\n",
       "    </tr>\n",
       "    <tr>\n",
       "      <th>1</th>\n",
       "      <td>2</td>\n",
       "      <td>2012210002</td>\n",
       "      <td>12152301151762</td>\n",
       "      <td>女</td>\n",
       "      <td>蒙古族</td>\n",
       "      <td>法学</td>\n",
       "      <td>共青团员</td>\n",
       "      <td>城镇应届</td>\n",
       "      <td>内蒙科尔沁区</td>\n",
       "      <td>484</td>\n",
       "      <td>494</td>\n",
       "      <td>内蒙古</td>\n",
       "      <td>法学院</td>\n",
       "      <td>NaN</td>\n",
       "      <td>1</td>\n",
       "      <td>0</td>\n",
       "      <td>0</td>\n",
       "      <td>0</td>\n",
       "      <td>1</td>\n",
       "      <td>0</td>\n",
       "    </tr>\n",
       "    <tr>\n",
       "      <th>2</th>\n",
       "      <td>3</td>\n",
       "      <td>2012210003</td>\n",
       "      <td>12220204110242</td>\n",
       "      <td>女</td>\n",
       "      <td>汉族</td>\n",
       "      <td>法学</td>\n",
       "      <td>共青团员</td>\n",
       "      <td>城镇应届</td>\n",
       "      <td>吉林船营区</td>\n",
       "      <td>520</td>\n",
       "      <td>520</td>\n",
       "      <td>吉林</td>\n",
       "      <td>法学院</td>\n",
       "      <td>NaN</td>\n",
       "      <td>1</td>\n",
       "      <td>0</td>\n",
       "      <td>0</td>\n",
       "      <td>0</td>\n",
       "      <td>1</td>\n",
       "      <td>0</td>\n",
       "    </tr>\n",
       "    <tr>\n",
       "      <th>3</th>\n",
       "      <td>4</td>\n",
       "      <td>2012210004</td>\n",
       "      <td>12342221112350</td>\n",
       "      <td>女</td>\n",
       "      <td>汉族</td>\n",
       "      <td>法学</td>\n",
       "      <td>共青团员</td>\n",
       "      <td>城镇往届</td>\n",
       "      <td>安徽宿州砀山县</td>\n",
       "      <td>578</td>\n",
       "      <td>578</td>\n",
       "      <td>安徽</td>\n",
       "      <td>法学院</td>\n",
       "      <td>NaN</td>\n",
       "      <td>1</td>\n",
       "      <td>0</td>\n",
       "      <td>0</td>\n",
       "      <td>0</td>\n",
       "      <td>0</td>\n",
       "      <td>1</td>\n",
       "    </tr>\n",
       "    <tr>\n",
       "      <th>4</th>\n",
       "      <td>5</td>\n",
       "      <td>2012210005</td>\n",
       "      <td>12361005110362</td>\n",
       "      <td>女</td>\n",
       "      <td>汉族</td>\n",
       "      <td>法学</td>\n",
       "      <td>共青团员</td>\n",
       "      <td>城镇往届</td>\n",
       "      <td>江西大余县</td>\n",
       "      <td>566</td>\n",
       "      <td>566</td>\n",
       "      <td>江西</td>\n",
       "      <td>法学院</td>\n",
       "      <td>NaN</td>\n",
       "      <td>1</td>\n",
       "      <td>0</td>\n",
       "      <td>0</td>\n",
       "      <td>0</td>\n",
       "      <td>0</td>\n",
       "      <td>1</td>\n",
       "    </tr>\n",
       "  </tbody>\n",
       "</table>\n",
       "</div>"
      ],
      "text/plain": [
       "   id          xh             ksh xb   mz  zy  zzmm  kslx        dq   zf  tdf  \\\n",
       "0   1  2012210001  12140829110130  女   汉族  法学  共青团员  城镇往届  山西运城市盐湖区  533  533   \n",
       "1   2  2012210002  12152301151762  女  蒙古族  法学  共青团员  城镇应届    内蒙科尔沁区  484  494   \n",
       "2   3  2012210003  12220204110242  女   汉族  法学  共青团员  城镇应届     吉林船营区  520  520   \n",
       "3   4  2012210004  12342221112350  女   汉族  法学  共青团员  城镇往届   安徽宿州砀山县  578  578   \n",
       "4   5  2012210005  12361005110362  女   汉族  法学  共青团员  城镇往届     江西大余县  566  566   \n",
       "\n",
       "    jg   xy   bz  female  male  ncyj  ncwj  czyj  czwj  \n",
       "0   山西  法学院  NaN       1     0     0     0     0     1  \n",
       "1  内蒙古  法学院  NaN       1     0     0     0     1     0  \n",
       "2   吉林  法学院  NaN       1     0     0     0     1     0  \n",
       "3   安徽  法学院  NaN       1     0     0     0     0     1  \n",
       "4   江西  法学院  NaN       1     0     0     0     0     1  "
      ]
     },
     "execution_count": 17,
     "metadata": {},
     "output_type": "execute_result"
    }
   ],
   "source": [
    "rx_data.head()"
   ]
  },
  {
   "cell_type": "code",
   "execution_count": 18,
   "metadata": {
    "collapsed": false
   },
   "outputs": [
    {
     "data": {
      "text/plain": [
       "城镇应届    2582\n",
       "农村应届    2168\n",
       "农村往届     927\n",
       "城镇往届     563\n",
       "Name: kslx, dtype: int64"
      ]
     },
     "execution_count": 18,
     "metadata": {},
     "output_type": "execute_result"
    }
   ],
   "source": [
    "rx_data['kslx'].value_counts()"
   ]
  },
  {
   "cell_type": "code",
   "execution_count": 19,
   "metadata": {
    "collapsed": false
   },
   "outputs": [
    {
     "name": "stderr",
     "output_type": "stream",
     "text": [
      "C:\\Users\\Wvv\\Anaconda3\\envs\\py2\\lib\\site-packages\\pandas\\core\\indexing.py:140: SettingWithCopyWarning: \n",
      "A value is trying to be set on a copy of a slice from a DataFrame\n",
      "\n",
      "See the caveats in the documentation: http://pandas.pydata.org/pandas-docs/stable/indexing.html#indexing-view-versus-copy\n",
      "  self._setitem_with_indexer(indexer, value)\n"
     ]
    }
   ],
   "source": [
    "#考生是否可以加分\n",
    "rx_data['ks_is_jf']=np.nan\n",
    "def jf(x,y,z):\n",
    "    for i in range(len(rx_data)):\n",
    "        if x.ix[i]==y.ix[i]:\n",
    "            z.ix[i]=1\n",
    "        else:\n",
    "            z.ix[i]=0\n",
    "    return z\n",
    "rx_data['ks_is_jf']=jf(rx_data['zf'],rx_data['tdf'],rx_data['ks_is_jf'])"
   ]
  },
  {
   "cell_type": "code",
   "execution_count": 20,
   "metadata": {
    "collapsed": false
   },
   "outputs": [],
   "source": [
    "rx_data['ks_is_jf']=rx_data['ks_is_jf'].apply(lambda x:int(x))"
   ]
  },
  {
   "cell_type": "markdown",
   "metadata": {},
   "source": [
    "### 考生号的含义\n",
    "一般考号规则如下：\n",
    "\n",
    "1、第1、2位为年度代码：如2015年填写“15”；\n",
    "\n",
    "2、第3、4位为省市代码：黑龙江省代码为“23”；\n",
    "\n",
    "3、第5、6、7、8位为县、市、区代码：\n",
    "\n",
    "4、第9位为考试类别代码：普通高考代码为“1”。\n",
    "\n",
    "5、第10位为科类代码：文史类—1、外语类—2、艺术类（文）—3、理工类—5、艺术类（理）—7、体育类（理）—8。\n",
    "\n",
    "6、第11、12、13、14位为考生顺序号。"
   ]
  },
  {
   "cell_type": "code",
   "execution_count": 349,
   "metadata": {
    "collapsed": false
   },
   "outputs": [],
   "source": [
    "#保存\n",
    "rx_data.to_csv('rx_data/rx_feature.csv',index=False)"
   ]
  },
  {
   "cell_type": "code",
   "execution_count": 126,
   "metadata": {
    "collapsed": false
   },
   "outputs": [],
   "source": [
    "rx_data=pd.read_csv('rx_data/rx_feature.csv')"
   ]
  },
  {
   "cell_type": "markdown",
   "metadata": {},
   "source": [
    "代码      名 称        代码      名 称\n",
    "11       北京市        43       湖南省\n",
    "12       天津市        44       广东省\n",
    "13       河北省        45       广西壮族自治区\n",
    "14       山西省        46       海南省\n",
    "15       内蒙古自治区   50       重庆市\n",
    "21       辽宁省        51       四川省\n",
    "22       吉林省        52       贵州省\n",
    "23       黑龙江省      53       云南省\n",
    "31       上海市        54       西藏自治区\n",
    "32       江苏省        61       陕西省\n",
    "33       浙江省        62       甘肃省\n",
    "34       安徽省        63       青海省\n",
    "35       福建省        64       宁夏回族自治区\n",
    "36       江西省        65       新疆维吾尔自治区\n",
    "37       山东省        71       台湾省\n",
    "41       河南省        81       香港特别行政区\n",
    "42       湖北省        82       澳门特别行政区"
   ]
  },
  {
   "cell_type": "code",
   "execution_count": 127,
   "metadata": {
    "collapsed": false
   },
   "outputs": [
    {
     "data": {
      "text/plain": [
       "<matplotlib.image.AxesImage at 0xc63c748>"
      ]
     },
     "execution_count": 127,
     "metadata": {},
     "output_type": "execute_result"
    },
    {
     "data": {
      "image/png": "[encoded data removed]",
      "text/plain": [
       "<matplotlib.figure.Figure at 0xbdaed68>"
      ]
     },
     "metadata": {},
     "output_type": "display_data"
    }
   ],
   "source": [
    "#网上找的中国基础教育省份排名\n",
    "\n",
    "pm=maping.imread('extra_data/pai_ming.jpg')\n",
    "plt.figure(figsize=(8,10))\n",
    "plt.imshow(pm)"
   ]
  },
  {
   "cell_type": "code",
   "execution_count": 128,
   "metadata": {
    "collapsed": false
   },
   "outputs": [],
   "source": [
    "a={u'湖北':0.766,u'广西':0.686,u'湖南':0.727,u'贵州':0.604,u'河南':0.752,u'云南':0.574,u'内蒙古':0.759,u'重庆':0.836,u'安徽':0.652,u'山东':0.804,u'福建':0.860,u'江西':0.735,u'江苏':0.883\n",
    "  ,u'四川':0.730,u'青海':0.639,u'海南':0.683,u'浙江':0.981,u'武汉':0.8,u'辽宁':0.912,u'河北':0.773,u'宁夏':0.747,u'吉林':0.766,u'新疆':0.653,u'陕西':0.764,u'甘肃':0.683,u'山西':0.772,\n",
    "  u'黑龙江':0.768,u'广东':0.8,u'西藏':0.448,u'内地新疆':0.6,u'内地西藏':0.5,u'上海':0.980,u'北京':0.978,u'天津':0.969}\n",
    "\n",
    "#各省基础教育得分\n",
    "\n",
    "rx_data['jydf']=rx_data['jg']\n",
    "def jydf(x):\n",
    "    for i in range(len(a)):\n",
    "        if x==a.keys()[i]:\n",
    "            return a.values()[i]\n",
    "rx_data['jydf']=rx_data['jydf'].apply(jydf)"
   ]
  },
  {
   "cell_type": "code",
   "execution_count": 129,
   "metadata": {
    "collapsed": true
   },
   "outputs": [],
   "source": [
    "#对考生号进行出理\n",
    "\n",
    "#提取省市代码\n",
    "rx_data['csdm']=rx_data['ksh'].apply(lambda x : str(x)[2:6])\n",
    "\n",
    "#提取考试类别代码\n",
    "rx_data['kslb']=rx_data['ksh'].apply(lambda x : str(x)[8:9])\n",
    "\n",
    "#提取科类代码\n",
    "rx_data['kldm']=rx_data['ksh'].apply(lambda x :str(x)[9:10])"
   ]
  },
  {
   "cell_type": "code",
   "execution_count": 130,
   "metadata": {
    "collapsed": false
   },
   "outputs": [
    {
     "data": {
      "text/html": [
       "<div>\n",
       "<table border=\"1\" class=\"dataframe\">\n",
       "  <thead>\n",
       "    <tr style=\"text-align: right;\">\n",
       "      <th></th>\n",
       "      <th>id</th>\n",
       "      <th>xh</th>\n",
       "      <th>ksh</th>\n",
       "      <th>xb</th>\n",
       "      <th>mz</th>\n",
       "      <th>zy</th>\n",
       "      <th>zzmm</th>\n",
       "      <th>kslx</th>\n",
       "      <th>dq</th>\n",
       "      <th>zf</th>\n",
       "      <th>...</th>\n",
       "      <th>male</th>\n",
       "      <th>ncyj</th>\n",
       "      <th>ncwj</th>\n",
       "      <th>czyj</th>\n",
       "      <th>czwj</th>\n",
       "      <th>ks_is_jf</th>\n",
       "      <th>jydf</th>\n",
       "      <th>csdm</th>\n",
       "      <th>kslb</th>\n",
       "      <th>kldm</th>\n",
       "    </tr>\n",
       "  </thead>\n",
       "  <tbody>\n",
       "    <tr>\n",
       "      <th>0</th>\n",
       "      <td>1</td>\n",
       "      <td>2012210001</td>\n",
       "      <td>12140829110130</td>\n",
       "      <td>女</td>\n",
       "      <td>汉族</td>\n",
       "      <td>法学</td>\n",
       "      <td>共青团员</td>\n",
       "      <td>城镇往届</td>\n",
       "      <td>山西运城市盐湖区</td>\n",
       "      <td>533</td>\n",
       "      <td>...</td>\n",
       "      <td>0</td>\n",
       "      <td>0</td>\n",
       "      <td>0</td>\n",
       "      <td>0</td>\n",
       "      <td>1</td>\n",
       "      <td>1</td>\n",
       "      <td>0.772</td>\n",
       "      <td>1408</td>\n",
       "      <td>1</td>\n",
       "      <td>1</td>\n",
       "    </tr>\n",
       "    <tr>\n",
       "      <th>1</th>\n",
       "      <td>2</td>\n",
       "      <td>2012210002</td>\n",
       "      <td>12152301151762</td>\n",
       "      <td>女</td>\n",
       "      <td>蒙古族</td>\n",
       "      <td>法学</td>\n",
       "      <td>共青团员</td>\n",
       "      <td>城镇应届</td>\n",
       "      <td>内蒙科尔沁区</td>\n",
       "      <td>484</td>\n",
       "      <td>...</td>\n",
       "      <td>0</td>\n",
       "      <td>0</td>\n",
       "      <td>0</td>\n",
       "      <td>1</td>\n",
       "      <td>0</td>\n",
       "      <td>0</td>\n",
       "      <td>0.759</td>\n",
       "      <td>1523</td>\n",
       "      <td>1</td>\n",
       "      <td>5</td>\n",
       "    </tr>\n",
       "    <tr>\n",
       "      <th>2</th>\n",
       "      <td>3</td>\n",
       "      <td>2012210003</td>\n",
       "      <td>12220204110242</td>\n",
       "      <td>女</td>\n",
       "      <td>汉族</td>\n",
       "      <td>法学</td>\n",
       "      <td>共青团员</td>\n",
       "      <td>城镇应届</td>\n",
       "      <td>吉林船营区</td>\n",
       "      <td>520</td>\n",
       "      <td>...</td>\n",
       "      <td>0</td>\n",
       "      <td>0</td>\n",
       "      <td>0</td>\n",
       "      <td>1</td>\n",
       "      <td>0</td>\n",
       "      <td>1</td>\n",
       "      <td>0.766</td>\n",
       "      <td>2202</td>\n",
       "      <td>1</td>\n",
       "      <td>1</td>\n",
       "    </tr>\n",
       "    <tr>\n",
       "      <th>3</th>\n",
       "      <td>4</td>\n",
       "      <td>2012210004</td>\n",
       "      <td>12342221112350</td>\n",
       "      <td>女</td>\n",
       "      <td>汉族</td>\n",
       "      <td>法学</td>\n",
       "      <td>共青团员</td>\n",
       "      <td>城镇往届</td>\n",
       "      <td>安徽宿州砀山县</td>\n",
       "      <td>578</td>\n",
       "      <td>...</td>\n",
       "      <td>0</td>\n",
       "      <td>0</td>\n",
       "      <td>0</td>\n",
       "      <td>0</td>\n",
       "      <td>1</td>\n",
       "      <td>1</td>\n",
       "      <td>0.652</td>\n",
       "      <td>3422</td>\n",
       "      <td>1</td>\n",
       "      <td>1</td>\n",
       "    </tr>\n",
       "    <tr>\n",
       "      <th>4</th>\n",
       "      <td>5</td>\n",
       "      <td>2012210005</td>\n",
       "      <td>12361005110362</td>\n",
       "      <td>女</td>\n",
       "      <td>汉族</td>\n",
       "      <td>法学</td>\n",
       "      <td>共青团员</td>\n",
       "      <td>城镇往届</td>\n",
       "      <td>江西大余县</td>\n",
       "      <td>566</td>\n",
       "      <td>...</td>\n",
       "      <td>0</td>\n",
       "      <td>0</td>\n",
       "      <td>0</td>\n",
       "      <td>0</td>\n",
       "      <td>1</td>\n",
       "      <td>1</td>\n",
       "      <td>0.735</td>\n",
       "      <td>3610</td>\n",
       "      <td>1</td>\n",
       "      <td>1</td>\n",
       "    </tr>\n",
       "  </tbody>\n",
       "</table>\n",
       "<p>5 rows × 25 columns</p>\n",
       "</div>"
      ],
      "text/plain": [
       "   id          xh             ksh xb   mz  zy  zzmm  kslx        dq   zf  \\\n",
       "0   1  2012210001  12140829110130  女   汉族  法学  共青团员  城镇往届  山西运城市盐湖区  533   \n",
       "1   2  2012210002  12152301151762  女  蒙古族  法学  共青团员  城镇应届    内蒙科尔沁区  484   \n",
       "2   3  2012210003  12220204110242  女   汉族  法学  共青团员  城镇应届     吉林船营区  520   \n",
       "3   4  2012210004  12342221112350  女   汉族  法学  共青团员  城镇往届   安徽宿州砀山县  578   \n",
       "4   5  2012210005  12361005110362  女   汉族  法学  共青团员  城镇往届     江西大余县  566   \n",
       "\n",
       "   ...   male ncyj ncwj czyj  czwj  ks_is_jf   jydf  csdm  kslb  kldm  \n",
       "0  ...      0    0    0    0     1         1  0.772  1408     1     1  \n",
       "1  ...      0    0    0    1     0         0  0.759  1523     1     5  \n",
       "2  ...      0    0    0    1     0         1  0.766  2202     1     1  \n",
       "3  ...      0    0    0    0     1         1  0.652  3422     1     1  \n",
       "4  ...      0    0    0    0     1         1  0.735  3610     1     1  \n",
       "\n",
       "[5 rows x 25 columns]"
      ]
     },
     "execution_count": 130,
     "metadata": {},
     "output_type": "execute_result"
    }
   ],
   "source": [
    "rx_data.head()"
   ]
  },
  {
   "cell_type": "code",
   "execution_count": 131,
   "metadata": {
    "collapsed": false
   },
   "outputs": [],
   "source": [
    "#各城市代码表\n",
    "csdm=pd.read_csv('extra_data/csdm.csv',encoding='gbk')\n",
    "\n",
    "#城市等级\n",
    "csdj=pd.read_csv('extra_data/csdj.csv',encoding='gbk')\n",
    "\n",
    "#连接两表\n",
    "cs_data=pd.merge(csdm,csdj,how='left',on=u'城市名称')"
   ]
  },
  {
   "cell_type": "code",
   "execution_count": 132,
   "metadata": {
    "collapsed": false
   },
   "outputs": [
    {
     "data": {
      "text/html": [
       "<div>\n",
       "<table border=\"1\" class=\"dataframe\">\n",
       "  <thead>\n",
       "    <tr style=\"text-align: right;\">\n",
       "      <th></th>\n",
       "      <th>省份代码</th>\n",
       "      <th>所属省份</th>\n",
       "      <th>城市名称</th>\n",
       "      <th>行政级别</th>\n",
       "      <th>城市编码</th>\n",
       "    </tr>\n",
       "  </thead>\n",
       "  <tbody>\n",
       "    <tr>\n",
       "      <th>0</th>\n",
       "      <td>11</td>\n",
       "      <td>北京市</td>\n",
       "      <td>北京市</td>\n",
       "      <td>1</td>\n",
       "      <td>1100</td>\n",
       "    </tr>\n",
       "    <tr>\n",
       "      <th>1</th>\n",
       "      <td>12</td>\n",
       "      <td>天津市</td>\n",
       "      <td>天津市</td>\n",
       "      <td>1</td>\n",
       "      <td>1200</td>\n",
       "    </tr>\n",
       "    <tr>\n",
       "      <th>2</th>\n",
       "      <td>13</td>\n",
       "      <td>河北省</td>\n",
       "      <td>石家庄市</td>\n",
       "      <td>2</td>\n",
       "      <td>1301</td>\n",
       "    </tr>\n",
       "    <tr>\n",
       "      <th>3</th>\n",
       "      <td>13</td>\n",
       "      <td>河北省</td>\n",
       "      <td>唐山市</td>\n",
       "      <td>3</td>\n",
       "      <td>1302</td>\n",
       "    </tr>\n",
       "    <tr>\n",
       "      <th>4</th>\n",
       "      <td>13</td>\n",
       "      <td>河北省</td>\n",
       "      <td>秦皇岛市</td>\n",
       "      <td>3</td>\n",
       "      <td>1303</td>\n",
       "    </tr>\n",
       "  </tbody>\n",
       "</table>\n",
       "</div>"
      ],
      "text/plain": [
       "   省份代码 所属省份  城市名称  行政级别  城市编码\n",
       "0    11  北京市   北京市     1  1100\n",
       "1    12  天津市   天津市     1  1200\n",
       "2    13  河北省  石家庄市     2  1301\n",
       "3    13  河北省   唐山市     3  1302\n",
       "4    13  河北省  秦皇岛市     3  1303"
      ]
     },
     "execution_count": 132,
     "metadata": {},
     "output_type": "execute_result"
    }
   ],
   "source": [
    "csdm.head()"
   ]
  },
  {
   "cell_type": "code",
   "execution_count": 133,
   "metadata": {
    "collapsed": false
   },
   "outputs": [
    {
     "data": {
      "text/html": [
       "<div>\n",
       "<table border=\"1\" class=\"dataframe\">\n",
       "  <thead>\n",
       "    <tr style=\"text-align: right;\">\n",
       "      <th></th>\n",
       "      <th>城市名称</th>\n",
       "      <th>等级</th>\n",
       "    </tr>\n",
       "  </thead>\n",
       "  <tbody>\n",
       "    <tr>\n",
       "      <th>0</th>\n",
       "      <td>北京市</td>\n",
       "      <td>1</td>\n",
       "    </tr>\n",
       "    <tr>\n",
       "      <th>1</th>\n",
       "      <td>上海市</td>\n",
       "      <td>1</td>\n",
       "    </tr>\n",
       "    <tr>\n",
       "      <th>2</th>\n",
       "      <td>广州市</td>\n",
       "      <td>1</td>\n",
       "    </tr>\n",
       "    <tr>\n",
       "      <th>3</th>\n",
       "      <td>深圳市</td>\n",
       "      <td>1</td>\n",
       "    </tr>\n",
       "    <tr>\n",
       "      <th>4</th>\n",
       "      <td>成都市</td>\n",
       "      <td>1</td>\n",
       "    </tr>\n",
       "  </tbody>\n",
       "</table>\n",
       "</div>"
      ],
      "text/plain": [
       "  城市名称  等级\n",
       "0  北京市   1\n",
       "1  上海市   1\n",
       "2  广州市   1\n",
       "3  深圳市   1\n",
       "4  成都市   1"
      ]
     },
     "execution_count": 133,
     "metadata": {},
     "output_type": "execute_result"
    }
   ],
   "source": [
    "csdj.head() "
   ]
  },
  {
   "cell_type": "code",
   "execution_count": 134,
   "metadata": {
    "collapsed": false
   },
   "outputs": [],
   "source": [
    "#可能由于csv文件格式问题，有的字符不能匹配，需要填补这些空值\n",
    "\n",
    "a=[45,109,172,180,258,260,280,281,282,285,311,325,326]\n",
    "b=[3,4,5,5,5,5,5,5,5,5,5,5,5]\n",
    "def dj(x):\n",
    "    for i in range(len(a)):\n",
    "        x.ix[a[i]]=b[i]\n",
    "    return x\n",
    "cs_data[u'等级']=dj(cs_data[u'等级'])"
   ]
  },
  {
   "cell_type": "code",
   "execution_count": 135,
   "metadata": {
    "collapsed": false
   },
   "outputs": [],
   "source": [
    "#删除无用的列\n",
    "\n",
    "cs_data1=cs_data.drop([u'省份代码',u'所属省份',u'城市名称',u'行政级别'],axis=1)\n",
    "cs_data1.columns=['csdm','csdj']\n",
    "cs_data1['csdm']=cs_data1['csdm'].apply(lambda x :str(x))\n",
    "\n",
    "#连接两表\n",
    "\n",
    "rx_data_f=pd.merge(rx_data,cs_data1,how='left',on='csdm')"
   ]
  },
  {
   "cell_type": "code",
   "execution_count": 136,
   "metadata": {
    "collapsed": false
   },
   "outputs": [
    {
     "data": {
      "text/plain": [
       "Index([u'5001', u'4330', u'4329', u'5206', u'5205', u'3424', u'5322', u'1523',\n",
       "       u'5324', u'4294', u'1101', u'3725', u'5327', u'4296', u'6422', u'1521',\n",
       "       u'5321', u'3101', u'3729', u'6421', u'5332', u'3723', u'3600', u'3620',\n",
       "       u'3630', u'3650', u'4325', u'3640', u'4328', u'6524', u'3660', u'4613',\n",
       "       u'6227', u'4124', u'1526', u'4323', u'6526', u'3422', u'5330', u'3680',\n",
       "       u'5112', u'4295', u'1527', u'6525', u'4603', u'5121', u'3429', u'5335',\n",
       "       u'3425', u'4612', u'4616', u'2340', u'4122', u'4118', u'6224', u'1201',\n",
       "       u'4606', u'1528', u'6223', u'4618', u'4614', u'4617', u'4125', u'2323',\n",
       "       u'4615', u'3522', u'1330', u'3312', u'6503', u'3515', u'3695', u'2326',\n",
       "       u'4609', u'4121', u'5221', u'6111', u'1202', u'4619', u'4605', u'4123',\n",
       "       u'4604', u'4607', u'3426', u'6221', u'3670', u'6228', u'6533', u'6226',\n",
       "       u'6222', u'3511', u'5427', u'4610', u'4611', u'3514', u'3109', u'5225',\n",
       "       u'4608', u'5428', u'5102'],\n",
       "      dtype='object')"
      ]
     },
     "execution_count": 136,
     "metadata": {},
     "output_type": "execute_result"
    }
   ],
   "source": [
    "#等级遗漏的城市\n",
    "\n",
    "vb=rx_data_f[rx_data_f['csdj'].isnull()]\n",
    "ff=vb['csdm'].value_counts()\n",
    "ff.index"
   ]
  },
  {
   "cell_type": "code",
   "execution_count": 137,
   "metadata": {
    "collapsed": false
   },
   "outputs": [],
   "source": [
    "#填充等级为3的城市\n",
    "a=['3600','3660','4616','4614','3515','6111','4605','4604','3426','3511','3514']\n",
    "def fill_na(df,x):\n",
    "    for i in range(len(a)):\n",
    "        b=df.loc[df['csdm']==a[i]].index\n",
    "        x.ix[b]=3\n",
    "    return x\n",
    "rx_data_f['csdj']=fill_na(rx_data_f,rx_data_f['csdj'])"
   ]
  },
  {
   "cell_type": "code",
   "execution_count": 138,
   "metadata": {
    "collapsed": true
   },
   "outputs": [],
   "source": [
    "#填充等级为4的城市\n",
    "a=['4330','3424','5322','1523','5324','3725','3729','5332','3723','3630','3650','4325','4328','3425','3670']\n",
    "def fill_na(df,x):\n",
    "    for i in range(len(a)):\n",
    "        b=df.loc[df['csdm']==a[i]].index\n",
    "        x.ix[b]=4\n",
    "    return x\n",
    "rx_data_f['csdj']=fill_na(rx_data_f,rx_data_f['csdj'])"
   ]
  },
  {
   "cell_type": "code",
   "execution_count": 139,
   "metadata": {
    "collapsed": true
   },
   "outputs": [],
   "source": [
    "#填充等级为5的城市\n",
    "a=['4329','5206','5205','5327','6422','5321','6421','3640','6227','4323','5330','3680','4603','3429','5335','4612','6224'\n",
    "  ,'6223','2323','3695','2326','5102']\n",
    "def fill_na(df,x):\n",
    "    for i in range(len(a)):\n",
    "        b=df.loc[df['csdm']==a[i]].index\n",
    "        x.ix[b]=5\n",
    "    return x\n",
    "rx_data_f['csdj']=fill_na(rx_data_f,rx_data_f['csdj'])"
   ]
  },
  {
   "cell_type": "code",
   "execution_count": 140,
   "metadata": {
    "collapsed": true
   },
   "outputs": [],
   "source": [
    "#填充等级为6的城市\n",
    "a=['4294','4296','1521','3620','6524','4124','1526','6526','4295','6525','5121','4122','2340','4118','4606','1528','4618'\n",
    "  ,'4617','4125','6221','6228','6533','6226','6222','5427','4610','4611','5225','4608','5428']\n",
    "def fill_na(df,x):\n",
    "    for i in range(len(a)):\n",
    "        b=df.loc[df['csdm']==a[i]].index\n",
    "        x.ix[b]=6\n",
    "    return x\n",
    "rx_data_f['csdj']=fill_na(rx_data_f,rx_data_f['csdj'])"
   ]
  },
  {
   "cell_type": "code",
   "execution_count": 141,
   "metadata": {
    "collapsed": true
   },
   "outputs": [],
   "source": [
    "#特殊地方（直辖市下的县）\n",
    "\n",
    "a=['5001','1101','3101','1201','1202','3109','4613']\n",
    "def fill_na(df,x):\n",
    "    for i in range(len(a)):\n",
    "        b=df.loc[df['csdm']==a[i]].index\n",
    "        x.ix[b]=0\n",
    "    return x\n",
    "rx_data_f['csdj']=fill_na(rx_data_f,rx_data_f['csdj'])"
   ]
  },
  {
   "cell_type": "code",
   "execution_count": 142,
   "metadata": {
    "collapsed": false
   },
   "outputs": [],
   "source": [
    "#其余\n",
    "rx_data_f['csdj']=rx_data_f['csdj'].fillna(6)"
   ]
  },
  {
   "cell_type": "code",
   "execution_count": 143,
   "metadata": {
    "collapsed": false
   },
   "outputs": [],
   "source": [
    "#对地区分市，县，区(中文是gbk格式编码)\n",
    "\n",
    "def sxq(x):\n",
    "    if '市' in x[-3:]:\n",
    "        return 's'\n",
    "    elif '区' in x[-3:]:\n",
    "        return 'q'\n",
    "    else:\n",
    "        return 'x'\n",
    "rx_data_f['sxq']=rx_data_f['dq']\n",
    "rx_data_f['sxq']=rx_data_f['sxq'].apply(sxq)"
   ]
  },
  {
   "cell_type": "code",
   "execution_count": 144,
   "metadata": {
    "collapsed": true
   },
   "outputs": [],
   "source": [
    "#对sxq热编码\n",
    "\n",
    "sxq_dummies=pd.get_dummies(rx_data_f['sxq'])\n",
    "sxq_dummies.columns=['is_qu','is_shi','is_xian']\n",
    "rx_data_f=rx_data_f.join(sxq_dummies)"
   ]
  },
  {
   "cell_type": "code",
   "execution_count": 146,
   "metadata": {
    "collapsed": false
   },
   "outputs": [],
   "source": [
    "#除去预科的学生\n",
    "\n",
    "rx_data_f=rx_data_f.loc[rx_data_f['zy']!='预科班']\n",
    "\n",
    "#2012年各省份分数线\n",
    "\n",
    "wlkfsx_2012=pd.read_csv('extra_data/2012wlkgkfsx.csv',encoding='gbk')\n",
    "\n",
    "#转编码，使得jg的编码格式一样\n",
    "wlkfsx_2012['jg']=wlkfsx_2012['jg'].apply(lambda x:x.encode('gbk').rstrip())\n",
    "rx_data_f['jg']=rx_data_f['jg'].apply(lambda x:x.encode('gbk'))\n",
    "\n",
    "#连接两表\n",
    "rx_data_f=pd.merge(rx_data_f,wlkfsx_2012,how='left',on='jg')"
   ]
  },
  {
   "cell_type": "code",
   "execution_count": 147,
   "metadata": {
    "collapsed": false
   },
   "outputs": [],
   "source": [
    "#zf特征提取(拆分出一、二、三本)\n",
    "\n",
    "rx_data_f['zfdj']=rx_data_f['zf']\n",
    "#文科\n",
    "def zf(df,df1,df2,df3,df4):\n",
    "    a=df[df['kldm']=='1'].index\n",
    "    for i in range(len(a)):\n",
    "        if df1.ix[a[i]]>=df2.ix[i]:\n",
    "            df4.ix[a[i]]='1'\n",
    "        elif df1.ix[a[i]]>=df3.ix[i] and df1.ix[i]<df2.ix[i]:\n",
    "            df4.ix[a[i]]='2'\n",
    "        else:\n",
    "            df4.ix[a[i]]='3'\n",
    "    return df4\n",
    "rx_data_f['zfdj']=zf(rx_data_f,rx_data_f['zf'],rx_data_f['ybfsx_wk'],rx_data_f['ebfsx_wk'],rx_data_f['zfdj'])   "
   ]
  },
  {
   "cell_type": "code",
   "execution_count": 148,
   "metadata": {
    "collapsed": true
   },
   "outputs": [],
   "source": [
    "#zf特征提取(拆分出一、二、三本)\n",
    "\n",
    "#理科\n",
    "def zf(df,df1,df2,df3,df4):\n",
    "    a=df[df['kldm']=='5'].index\n",
    "    for i in range(len(a)):\n",
    "        if df1.ix[a[i]]>=df2.ix[i]:\n",
    "            df4.ix[a[i]]='1'\n",
    "        elif df1.ix[a[i]]>=df3.ix[i] and df1.ix[i]<df2.ix[i]:\n",
    "            df4.ix[a[i]]='2'\n",
    "        else:\n",
    "            df4.ix[a[i]]='3'\n",
    "    return df4\n",
    "rx_data_f['zfdj']=zf(rx_data_f,rx_data_f['zf'],rx_data_f['ybfsx_lk'],rx_data_f['ebfsx_lk'],rx_data_f['zfdj'])   "
   ]
  },
  {
   "cell_type": "code",
   "execution_count": 149,
   "metadata": {
    "collapsed": false
   },
   "outputs": [],
   "source": [
    "#预科升学不分等级，用'4'标识；其它科类考试用'5'标识\n",
    "def zf(df,df1):\n",
    "    a=[x for x in df['kldm'].value_counts().index if x not in ['5','1']]\n",
    "    for i in range(len(a)):\n",
    "        b=df[df['kldm']==a[i]].index\n",
    "        df1.ix[b]='5'\n",
    "    c=df[df['zf']==0].index\n",
    "    df1.ix[c]='4'\n",
    "    return df1\n",
    "rx_data_f['zfdj']=zf(rx_data_f,rx_data_f['zfdj'])   "
   ]
  },
  {
   "cell_type": "code",
   "execution_count": 150,
   "metadata": {
    "collapsed": false
   },
   "outputs": [
    {
     "data": {
      "text/plain": [
       "1    2318\n",
       "3    1730\n",
       "2    1098\n",
       "5     607\n",
       "4     297\n",
       "Name: zfdj, dtype: int64"
      ]
     },
     "execution_count": 150,
     "metadata": {},
     "output_type": "execute_result"
    }
   ],
   "source": [
    "rx_data_f['zfdj'].value_counts()"
   ]
  },
  {
   "cell_type": "code",
   "execution_count": 168,
   "metadata": {
    "collapsed": false
   },
   "outputs": [],
   "source": [
    "#各省考生高考总分与一本线的差值\n",
    "def diff1(df,df1,df2,df3,df4):\n",
    "    #文科\n",
    "    a=df[df['kldm']=='1'].index\n",
    "    df4.ix[a]=df1.ix[a]-df2.ix[a]\n",
    "    #理科\n",
    "    b=df[df['kldm']=='5'].index\n",
    "    df4.ix[b]=df1.ix[b]-df3.ix[b]\n",
    "    return df4\n",
    "rx_data_f['zf_yb_d']=rx_data_f['zf']#初始化\n",
    "rx_data_f['zf_yb_d']=diff1(rx_data_f,rx_data_f['zf'],rx_data_f['ybfsx_wk'],rx_data_f['ybfsx_lk'],rx_data_f['zf_yb_d'])"
   ]
  },
  {
   "cell_type": "code",
   "execution_count": 154,
   "metadata": {
    "collapsed": true
   },
   "outputs": [],
   "source": [
    "#考生成绩与民大最低录取分的差值（分少数名族与汉族）\n",
    "def diff2(df,df1,df2,df3,df4):\n",
    "    #文科\n",
    "    a=df[df['kldm']=='1'].index\n",
    "    b=df[df['mz']=='汉族'].index\n",
    "    c=[x for x in a if x in b]\n",
    "    df1.ix[c]=df2.ix[c]-df3.ix[c]\n",
    "    d=df[df['mz']!='汉族'].index\n",
    "    e=[x for x in a if x in d]\n",
    "    df1.ix[e]=df2.ix[e]-df4.ix[e]\n",
    "    return df1\n",
    "rx_data_f['zf_lqf_d']=rx_data_f['zf']#初始化\n",
    "rx_data_f['zf_lqf_d']=diff2(rx_data_f,rx_data_f['zf_lqf_d'],rx_data_f['zf'],rx_data_f['hzlqf_wk'],rx_data_f['ssmzlqf_wk'])"
   ]
  },
  {
   "cell_type": "code",
   "execution_count": 155,
   "metadata": {
    "collapsed": true
   },
   "outputs": [],
   "source": [
    "#考生成绩与民大最低录取分的差值（分少数名族与汉族）\n",
    "def diff3(df,df1,df2,df3,df4):\n",
    "    #理科\n",
    "    a=df[df['kldm']=='5'].index\n",
    "    b=df[df['mz']=='汉族'].index\n",
    "    c=[x for x in a if x in b]\n",
    "    df1.ix[c]=df2.ix[c]-df3.ix[c]\n",
    "    d=df[df['mz']!='汉族'].index\n",
    "    e=[x for x in a if x in d]\n",
    "    df1.ix[e]=df2.ix[e]-df4.ix[e]\n",
    "    return df1\n",
    "rx_data_f['zf_lqf_d']=diff3(rx_data_f,rx_data_f['zf_lqf_d'],rx_data_f['zf'],rx_data_f['hzlqf_lk'],rx_data_f['ssmzlqf_lk'])"
   ]
  },
  {
   "cell_type": "code",
   "execution_count": 156,
   "metadata": {
    "collapsed": true
   },
   "outputs": [],
   "source": [
    "#考生分数与各专业录取平均分之差\n",
    "\n",
    "a=rx_data_f[rx_data_f['zf']!=0].groupby('zy')['zf'].mean()\n",
    "b=rx_data_f[rx_data_f['zf']!=0].groupby('zy')['zf'].mean().index\n",
    "rx_data_f['zf_pjf_d']=rx_data_f['zf']\n",
    "def diff4(df,df1,df2):\n",
    "    for i in range(len(b)):\n",
    "        c=df[df['zy']==b[i]].index\n",
    "        df1.ix[c]=df2.ix[c]-int(a[i])\n",
    "    return df1\n",
    "rx_data_f['zf_pjf_d']=diff4(rx_data_f,rx_data_f['zf_pjf_d'],rx_data_f['zf'])"
   ]
  },
  {
   "cell_type": "code",
   "execution_count": 170,
   "metadata": {
    "collapsed": true
   },
   "outputs": [],
   "source": [
    "#其它科类考试学生的差值也置零\n",
    "a=list(rx_data_f[rx_data_f['kldm']=='1'].index)\n",
    "b=list(rx_data_f[rx_data_f['kldm']=='5'].index)\n",
    "c=[x for x in rx_data_f.index if x not in a+b]\n",
    "rx_data_f['zf_yb_d'].ix[c]=0\n",
    "rx_data_f['zf_lqf_d'].ix[c]=0\n",
    "\n",
    "\n",
    "#预科升学的学生差值置零(高考总分为0的认为是预科升学)\n",
    "x=rx_data_f[rx_data_f['zf']==0].index\n",
    "rx_data_f['zf_yb_d'].ix[x]=0\n",
    "rx_data_f['zf_lqf_d'].ix[x]=0\n",
    "rx_data_f['zf_pjf_d'].ix[x]=0"
   ]
  },
  {
   "cell_type": "code",
   "execution_count": 173,
   "metadata": {
    "collapsed": false
   },
   "outputs": [],
   "source": [
    "#为各专业编码\n",
    "rx_data_f['zybm']=rx_data_f['zy']\n",
    "def zy(x):\n",
    "    a=rx_data['zy'].value_counts().index\n",
    "    for i in range(len(a)):\n",
    "        if x==a[i]:\n",
    "            return str(i+1)\n",
    "rx_data_f['zybm']=rx_data_f['zybm'].apply(zy)"
   ]
  },
  {
   "cell_type": "code",
   "execution_count": 174,
   "metadata": {
    "collapsed": false
   },
   "outputs": [],
   "source": [
    "#为各学院编码\n",
    "rx_data_f['xybm']=rx_data_f['xy']\n",
    "def xy(x):\n",
    "    a=rx_data_f['xy'].value_counts().index\n",
    "    for i in range(len(a)):\n",
    "        if x==a[i]:\n",
    "            return str(i+1)\n",
    "rx_data_f['xybm']=rx_data_f['xybm'].apply(xy)"
   ]
  },
  {
   "cell_type": "code",
   "execution_count": 175,
   "metadata": {
    "collapsed": true
   },
   "outputs": [],
   "source": [
    "#专业成绩排名（按考生成绩与民大在各省录取最低分的差值倒序排名）\n",
    "\n",
    "#专业分数排名\n",
    "rx_data_f['zy_fs_pm']=rx_data_f['zf']\n",
    "a=rx_data_f['zy'].value_counts().index\n",
    "def zypm(df,df1,df2):\n",
    "    for i in range(len(a)):\n",
    "        b=df[df['zy']==a[i]].index\n",
    "        df1.ix[b]=df2.ix[b].rank(ascending=False,method='max').values\n",
    "    return df1\n",
    "rx_data_f['zy_fs_pm']=zypm(rx_data_f,rx_data_f['zy_fs_pm'],rx_data_f['zf_lqf_d'])"
   ]
  },
  {
   "cell_type": "code",
   "execution_count": 121,
   "metadata": {
    "collapsed": false
   },
   "outputs": [
    {
     "data": {
      "text/plain": [
       "Index([        u'id',         u'xh',        u'ksh',         u'xb',\n",
       "               u'mz',         u'zy',       u'zzmm',       u'kslx',\n",
       "               u'dq',         u'zf',        u'tdf',         u'jg',\n",
       "               u'xy',         u'bz',     u'female',       u'male',\n",
       "             u'ncyj',       u'ncwj',       u'czyj',       u'czwj',\n",
       "         u'ks_is_jf',       u'jydf',       u'csdm',       u'kslb',\n",
       "             u'kldm',       u'csdj',        u'sxq',      u'is_qu',\n",
       "           u'is_shi',    u'is_xian',   u'ybfsx_wk',   u'ebfsx_wk',\n",
       "       u'ssmzlqf_wk',   u'hzlqf_wk',   u'ybfsx_lk',   u'ebfsx_lk',\n",
       "       u'ssmzlqf_lk',   u'hzlqf_lk',       u'zfdj',    u'zf_yb_d',\n",
       "         u'zf_lqf_d',   u'zf_pjf_d',       u'zybm',       u'xybm',\n",
       "         u'zy_fs_pm'],\n",
       "      dtype='object')"
      ]
     },
     "execution_count": 121,
     "metadata": {},
     "output_type": "execute_result"
    }
   ],
   "source": [
    "rx_data_f.columns"
   ]
  },
  {
   "cell_type": "code",
   "execution_count": 176,
   "metadata": {
    "collapsed": false
   },
   "outputs": [],
   "source": [
    "#去掉无用列\n",
    "a=['id','ksh','xb','mz','zy','zzmm','kslx','dq','jg','xy','bz','sxq']\n",
    "b=rx_data_f.columns\n",
    "feature=[x for x in b if x not in a]\n",
    "rx_data_ff=rx_data_f[feature]"
   ]
  },
  {
   "cell_type": "code",
   "execution_count": 177,
   "metadata": {
    "collapsed": false
   },
   "outputs": [
    {
     "data": {
      "text/html": [
       "<div>\n",
       "<table border=\"1\" class=\"dataframe\">\n",
       "  <thead>\n",
       "    <tr style=\"text-align: right;\">\n",
       "      <th></th>\n",
       "      <th>xh</th>\n",
       "      <th>zf</th>\n",
       "      <th>tdf</th>\n",
       "      <th>female</th>\n",
       "      <th>male</th>\n",
       "      <th>ncyj</th>\n",
       "      <th>ncwj</th>\n",
       "      <th>czyj</th>\n",
       "      <th>czwj</th>\n",
       "      <th>ks_is_jf</th>\n",
       "      <th>...</th>\n",
       "      <th>ebfsx_lk</th>\n",
       "      <th>ssmzlqf_lk</th>\n",
       "      <th>hzlqf_lk</th>\n",
       "      <th>zfdj</th>\n",
       "      <th>zf_yb_d</th>\n",
       "      <th>zf_lqf_d</th>\n",
       "      <th>zf_pjf_d</th>\n",
       "      <th>zybm</th>\n",
       "      <th>xybm</th>\n",
       "      <th>zy_fs_pm</th>\n",
       "    </tr>\n",
       "  </thead>\n",
       "  <tbody>\n",
       "    <tr>\n",
       "      <th>0</th>\n",
       "      <td>2012210001</td>\n",
       "      <td>533</td>\n",
       "      <td>533</td>\n",
       "      <td>1</td>\n",
       "      <td>0</td>\n",
       "      <td>0</td>\n",
       "      <td>0</td>\n",
       "      <td>0</td>\n",
       "      <td>1</td>\n",
       "      <td>1</td>\n",
       "      <td>...</td>\n",
       "      <td>476</td>\n",
       "      <td>487</td>\n",
       "      <td>487</td>\n",
       "      <td>2</td>\n",
       "      <td>-6.0</td>\n",
       "      <td>11</td>\n",
       "      <td>15</td>\n",
       "      <td>4</td>\n",
       "      <td>8</td>\n",
       "      <td>71.0</td>\n",
       "    </tr>\n",
       "    <tr>\n",
       "      <th>1</th>\n",
       "      <td>2012210002</td>\n",
       "      <td>484</td>\n",
       "      <td>494</td>\n",
       "      <td>1</td>\n",
       "      <td>0</td>\n",
       "      <td>0</td>\n",
       "      <td>0</td>\n",
       "      <td>1</td>\n",
       "      <td>0</td>\n",
       "      <td>0</td>\n",
       "      <td>...</td>\n",
       "      <td>390</td>\n",
       "      <td>437</td>\n",
       "      <td>458</td>\n",
       "      <td>3</td>\n",
       "      <td>15.0</td>\n",
       "      <td>47</td>\n",
       "      <td>-34</td>\n",
       "      <td>4</td>\n",
       "      <td>8</td>\n",
       "      <td>11.0</td>\n",
       "    </tr>\n",
       "    <tr>\n",
       "      <th>2</th>\n",
       "      <td>2012210003</td>\n",
       "      <td>520</td>\n",
       "      <td>520</td>\n",
       "      <td>1</td>\n",
       "      <td>0</td>\n",
       "      <td>0</td>\n",
       "      <td>0</td>\n",
       "      <td>1</td>\n",
       "      <td>0</td>\n",
       "      <td>1</td>\n",
       "      <td>...</td>\n",
       "      <td>412</td>\n",
       "      <td>420</td>\n",
       "      <td>415</td>\n",
       "      <td>1</td>\n",
       "      <td>-9.0</td>\n",
       "      <td>19</td>\n",
       "      <td>2</td>\n",
       "      <td>4</td>\n",
       "      <td>8</td>\n",
       "      <td>38.0</td>\n",
       "    </tr>\n",
       "    <tr>\n",
       "      <th>3</th>\n",
       "      <td>2012210004</td>\n",
       "      <td>578</td>\n",
       "      <td>578</td>\n",
       "      <td>1</td>\n",
       "      <td>0</td>\n",
       "      <td>0</td>\n",
       "      <td>0</td>\n",
       "      <td>0</td>\n",
       "      <td>1</td>\n",
       "      <td>1</td>\n",
       "      <td>...</td>\n",
       "      <td>478</td>\n",
       "      <td>496</td>\n",
       "      <td>539</td>\n",
       "      <td>1</td>\n",
       "      <td>1.0</td>\n",
       "      <td>0</td>\n",
       "      <td>60</td>\n",
       "      <td>4</td>\n",
       "      <td>8</td>\n",
       "      <td>215.0</td>\n",
       "    </tr>\n",
       "    <tr>\n",
       "      <th>4</th>\n",
       "      <td>2012210005</td>\n",
       "      <td>566</td>\n",
       "      <td>566</td>\n",
       "      <td>1</td>\n",
       "      <td>0</td>\n",
       "      <td>0</td>\n",
       "      <td>0</td>\n",
       "      <td>0</td>\n",
       "      <td>1</td>\n",
       "      <td>1</td>\n",
       "      <td>...</td>\n",
       "      <td>486</td>\n",
       "      <td>487</td>\n",
       "      <td>531</td>\n",
       "      <td>3</td>\n",
       "      <td>-4.0</td>\n",
       "      <td>1</td>\n",
       "      <td>48</td>\n",
       "      <td>4</td>\n",
       "      <td>8</td>\n",
       "      <td>161.0</td>\n",
       "    </tr>\n",
       "  </tbody>\n",
       "</table>\n",
       "<p>5 rows × 33 columns</p>\n",
       "</div>"
      ],
      "text/plain": [
       "           xh   zf  tdf  female  male  ncyj  ncwj  czyj  czwj  ks_is_jf  \\\n",
       "0  2012210001  533  533       1     0     0     0     0     1         1   \n",
       "1  2012210002  484  494       1     0     0     0     1     0         0   \n",
       "2  2012210003  520  520       1     0     0     0     1     0         1   \n",
       "3  2012210004  578  578       1     0     0     0     0     1         1   \n",
       "4  2012210005  566  566       1     0     0     0     0     1         1   \n",
       "\n",
       "     ...     ebfsx_lk ssmzlqf_lk hzlqf_lk zfdj  zf_yb_d  zf_lqf_d  zf_pjf_d  \\\n",
       "0    ...          476        487      487    2     -6.0        11        15   \n",
       "1    ...          390        437      458    3     15.0        47       -34   \n",
       "2    ...          412        420      415    1     -9.0        19         2   \n",
       "3    ...          478        496      539    1      1.0         0        60   \n",
       "4    ...          486        487      531    3     -4.0         1        48   \n",
       "\n",
       "   zybm  xybm  zy_fs_pm  \n",
       "0     4     8      71.0  \n",
       "1     4     8      11.0  \n",
       "2     4     8      38.0  \n",
       "3     4     8     215.0  \n",
       "4     4     8     161.0  \n",
       "\n",
       "[5 rows x 33 columns]"
      ]
     },
     "execution_count": 177,
     "metadata": {},
     "output_type": "execute_result"
    }
   ],
   "source": [
    "rx_data_ff.head()"
   ]
  },
  {
   "cell_type": "code",
   "execution_count": 178,
   "metadata": {
    "collapsed": false
   },
   "outputs": [],
   "source": [
    "#将'xh'列名改为'sno'\n",
    "rx_data_ff.rename(columns={'xh':'sno'},inplace=True)"
   ]
  },
  {
   "cell_type": "code",
   "execution_count": 180,
   "metadata": {
    "collapsed": true
   },
   "outputs": [],
   "source": [
    "#保存数据\n",
    "rx_data_ff.to_csv('rx_data/rx_feature_ff.csv',index=False)"
   ]
  },
  {
   "cell_type": "code",
   "execution_count": null,
   "metadata": {
    "collapsed": true
   },
   "outputs": [],
   "source": []
  }
 ],
 "metadata": {
  "anaconda-cloud": {},
  "kernelspec": {
   "display_name": "Python [py2]",
   "language": "python",
   "name": "Python [py2]"
  },
  "language_info": {
   "codemirror_mode": {
    "name": "ipython",
    "version": 2
   },
   "file_extension": ".py",
   "mimetype": "text/x-python",
   "name": "python",
   "nbconvert_exporter": "python",
   "pygments_lexer": "ipython2",
   "version": "2.7.12"
  }
 },
 "nbformat": 4,
 "nbformat_minor": 0
}
