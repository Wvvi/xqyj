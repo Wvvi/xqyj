{
 "cells": [
  {
   "cell_type": "code",
   "execution_count": 4,
   "metadata": {
    "collapsed": true
   },
   "outputs": [],
   "source": [
    "import pandas as pd \n",
    "import numpy as np"
   ]
  },
  {
   "cell_type": "code",
   "execution_count": 6,
   "metadata": {
    "collapsed": false
   },
   "outputs": [],
   "source": [
    "#数据路径\n",
    "\n",
    "path='F:/weiwei/xue_qian_yu_jing/xqyj_data'\n",
    "\n",
    "#经济困难学生信息\n",
    "#2016-2017\n",
    "poor_students_7=pd.read_csv(path+'/poor_students(2016-2017).csv',encoding='gbk')\n",
    "#2014-2015,2015-2016\n",
    "poor_students_1=pd.read_csv(path+'/poor_students_1029(2014-2015 2015-2016).csv',encoding='gbk')\n",
    "poor_students_2=pd.read_csv(path+'/poor_students_1029(2)(2014-2015 2015-2016).csv',encoding='gbk')\n",
    "poor_students_3=pd.read_csv(path+'/poor_students_1029(3)(2014-2015 2015-2016).csv',encoding='gbk')\n",
    "poor_students_4=pd.read_csv(path+'/poor_students_1029(4)(2014-2015 2015-2016).csv',encoding='gbk')\n",
    "poor_students_5=pd.read_csv(path+'/poor_students_1029(5)(2014-2015 2015-2016).csv',encoding='gbk')\n",
    "poor_students_6=pd.read_csv(path+'/poor_students_1029(6)(2014-2015 2015-2016).csv',encoding='gbk')"
   ]
  },
  {
   "cell_type": "code",
   "execution_count": 9,
   "metadata": {
    "collapsed": false
   },
   "outputs": [],
   "source": [
    "#转化学号格式为int\n",
    "def sno(x):\n",
    "    return int(x)\n",
    "poor_students_1['sno']=poor_students_1['sno'].apply(sno)\n",
    "poor_students_6['sno']=poor_students_6['sno'].apply(sno)"
   ]
  },
  {
   "cell_type": "code",
   "execution_count": 10,
   "metadata": {
    "collapsed": false
   },
   "outputs": [
    {
     "data": {
      "text/html": [
       "<div>\n",
       "<table border=\"1\" class=\"dataframe\">\n",
       "  <thead>\n",
       "    <tr style=\"text-align: right;\">\n",
       "      <th></th>\n",
       "      <th>id</th>\n",
       "      <th>school_year</th>\n",
       "      <th>school_term</th>\n",
       "      <th>sno</th>\n",
       "      <th>department_code</th>\n",
       "      <th>class_no</th>\n",
       "      <th>month_avg_consumption</th>\n",
       "      <th>status</th>\n",
       "      <th>poor_level</th>\n",
       "      <th>data_source</th>\n",
       "      <th>created_at</th>\n",
       "      <th>updated_at</th>\n",
       "      <th>in_school_status</th>\n",
       "      <th>school_roll</th>\n",
       "    </tr>\n",
       "  </thead>\n",
       "  <tbody>\n",
       "    <tr>\n",
       "      <th>0</th>\n",
       "      <td>11659</td>\n",
       "      <td>2015-2016</td>\n",
       "      <td>1</td>\n",
       "      <td>2012210703</td>\n",
       "      <td>202.0</td>\n",
       "      <td>2012020302</td>\n",
       "      <td>NaN</td>\n",
       "      <td>0</td>\n",
       "      <td>1</td>\n",
       "      <td>1</td>\n",
       "      <td>2016/8/3 11:31:39</td>\n",
       "      <td>2016/9/20 10:13:17</td>\n",
       "      <td>1.0</td>\n",
       "      <td>1.0</td>\n",
       "    </tr>\n",
       "    <tr>\n",
       "      <th>1</th>\n",
       "      <td>2539</td>\n",
       "      <td>2014-2015</td>\n",
       "      <td>1</td>\n",
       "      <td>2012210703</td>\n",
       "      <td>202.0</td>\n",
       "      <td>2012020302</td>\n",
       "      <td>NaN</td>\n",
       "      <td>0</td>\n",
       "      <td>2</td>\n",
       "      <td>1</td>\n",
       "      <td>2016/8/3 11:31:39</td>\n",
       "      <td>2016/9/20 10:10:49</td>\n",
       "      <td>1.0</td>\n",
       "      <td>1.0</td>\n",
       "    </tr>\n",
       "    <tr>\n",
       "      <th>2</th>\n",
       "      <td>16896</td>\n",
       "      <td>2014-2015</td>\n",
       "      <td>1</td>\n",
       "      <td>2012210704</td>\n",
       "      <td>202.0</td>\n",
       "      <td>2012020302</td>\n",
       "      <td>NaN</td>\n",
       "      <td>0</td>\n",
       "      <td>2</td>\n",
       "      <td>1</td>\n",
       "      <td>2016/8/3 11:31:40</td>\n",
       "      <td>2016/9/20 10:14:42</td>\n",
       "      <td>1.0</td>\n",
       "      <td>1.0</td>\n",
       "    </tr>\n",
       "    <tr>\n",
       "      <th>3</th>\n",
       "      <td>11660</td>\n",
       "      <td>2015-2016</td>\n",
       "      <td>1</td>\n",
       "      <td>2012210704</td>\n",
       "      <td>202.0</td>\n",
       "      <td>2012020302</td>\n",
       "      <td>NaN</td>\n",
       "      <td>0</td>\n",
       "      <td>1</td>\n",
       "      <td>1</td>\n",
       "      <td>2016/8/3 11:31:39</td>\n",
       "      <td>2016/9/20 10:13:17</td>\n",
       "      <td>1.0</td>\n",
       "      <td>1.0</td>\n",
       "    </tr>\n",
       "    <tr>\n",
       "      <th>4</th>\n",
       "      <td>3143</td>\n",
       "      <td>2014-2015</td>\n",
       "      <td>1</td>\n",
       "      <td>2012210705</td>\n",
       "      <td>209.0</td>\n",
       "      <td>12209080102</td>\n",
       "      <td>NaN</td>\n",
       "      <td>0</td>\n",
       "      <td>3</td>\n",
       "      <td>1</td>\n",
       "      <td>2016/8/3 11:31:39</td>\n",
       "      <td>2016/8/3 11:31:39</td>\n",
       "      <td>1.0</td>\n",
       "      <td>23.0</td>\n",
       "    </tr>\n",
       "  </tbody>\n",
       "</table>\n",
       "</div>"
      ],
      "text/plain": [
       "      id school_year  school_term         sno  department_code     class_no  \\\n",
       "0  11659   2015-2016            1  2012210703            202.0   2012020302   \n",
       "1   2539   2014-2015            1  2012210703            202.0   2012020302   \n",
       "2  16896   2014-2015            1  2012210704            202.0   2012020302   \n",
       "3  11660   2015-2016            1  2012210704            202.0   2012020302   \n",
       "4   3143   2014-2015            1  2012210705            209.0  12209080102   \n",
       "\n",
       "   month_avg_consumption  status  poor_level  data_source         created_at  \\\n",
       "0                    NaN       0           1            1  2016/8/3 11:31:39   \n",
       "1                    NaN       0           2            1  2016/8/3 11:31:39   \n",
       "2                    NaN       0           2            1  2016/8/3 11:31:40   \n",
       "3                    NaN       0           1            1  2016/8/3 11:31:39   \n",
       "4                    NaN       0           3            1  2016/8/3 11:31:39   \n",
       "\n",
       "           updated_at  in_school_status  school_roll  \n",
       "0  2016/9/20 10:13:17               1.0          1.0  \n",
       "1  2016/9/20 10:10:49               1.0          1.0  \n",
       "2  2016/9/20 10:14:42               1.0          1.0  \n",
       "3  2016/9/20 10:13:17               1.0          1.0  \n",
       "4   2016/8/3 11:31:39               1.0         23.0  "
      ]
     },
     "execution_count": 10,
     "metadata": {},
     "output_type": "execute_result"
    }
   ],
   "source": [
    "poor_students_2.head()"
   ]
  },
  {
   "cell_type": "code",
   "execution_count": 11,
   "metadata": {
    "collapsed": true
   },
   "outputs": [],
   "source": [
    "#连接各表\n",
    "\n",
    "#轴axis为0，纵向堆叠各表到一起\n",
    "poor_students=pd.concat([poor_students_1,poor_students_2])\n",
    "poor_students=pd.concat([poor_students,poor_students_3])\n",
    "poor_students=pd.concat([poor_students,poor_students_4])\n",
    "poor_students=pd.concat([poor_students,poor_students_5])\n",
    "poor_students=pd.concat([poor_students,poor_students_6])\n",
    "poor_students=pd.concat([poor_students,poor_students_7])"
   ]
  },
  {
   "cell_type": "code",
   "execution_count": 12,
   "metadata": {
    "collapsed": false
   },
   "outputs": [
    {
     "data": {
      "text/html": [
       "<div>\n",
       "<table border=\"1\" class=\"dataframe\">\n",
       "  <thead>\n",
       "    <tr style=\"text-align: right;\">\n",
       "      <th></th>\n",
       "      <th>id</th>\n",
       "      <th>school_year</th>\n",
       "      <th>school_term</th>\n",
       "      <th>sno</th>\n",
       "      <th>department_code</th>\n",
       "      <th>class_no</th>\n",
       "      <th>month_avg_consumption</th>\n",
       "      <th>status</th>\n",
       "      <th>poor_level</th>\n",
       "      <th>data_source</th>\n",
       "      <th>created_at</th>\n",
       "      <th>updated_at</th>\n",
       "      <th>in_school_status</th>\n",
       "      <th>school_roll</th>\n",
       "    </tr>\n",
       "  </thead>\n",
       "  <tbody>\n",
       "    <tr>\n",
       "      <th>0</th>\n",
       "      <td>2677</td>\n",
       "      <td>2014-2015</td>\n",
       "      <td>1</td>\n",
       "      <td>2012104676</td>\n",
       "      <td>NaN</td>\n",
       "      <td>NaN</td>\n",
       "      <td>NaN</td>\n",
       "      <td>0</td>\n",
       "      <td>2</td>\n",
       "      <td>1</td>\n",
       "      <td>2016/8/3 11:31</td>\n",
       "      <td>2016/8/3 11:31</td>\n",
       "      <td>NaN</td>\n",
       "      <td>NaN</td>\n",
       "    </tr>\n",
       "    <tr>\n",
       "      <th>1</th>\n",
       "      <td>17562</td>\n",
       "      <td>2014-2015</td>\n",
       "      <td>1</td>\n",
       "      <td>201210857</td>\n",
       "      <td>NaN</td>\n",
       "      <td>NaN</td>\n",
       "      <td>NaN</td>\n",
       "      <td>0</td>\n",
       "      <td>1</td>\n",
       "      <td>1</td>\n",
       "      <td>2016/8/3 11:31</td>\n",
       "      <td>2016/8/3 11:31</td>\n",
       "      <td>NaN</td>\n",
       "      <td>NaN</td>\n",
       "    </tr>\n",
       "    <tr>\n",
       "      <th>2</th>\n",
       "      <td>13051</td>\n",
       "      <td>2014-2015</td>\n",
       "      <td>1</td>\n",
       "      <td>2012113080</td>\n",
       "      <td>NaN</td>\n",
       "      <td>NaN</td>\n",
       "      <td>NaN</td>\n",
       "      <td>0</td>\n",
       "      <td>1</td>\n",
       "      <td>1</td>\n",
       "      <td>2016/8/3 11:31</td>\n",
       "      <td>2016/8/3 11:31</td>\n",
       "      <td>NaN</td>\n",
       "      <td>NaN</td>\n",
       "    </tr>\n",
       "    <tr>\n",
       "      <th>3</th>\n",
       "      <td>1391</td>\n",
       "      <td>2014-2015</td>\n",
       "      <td>1</td>\n",
       "      <td>2012113173</td>\n",
       "      <td>NaN</td>\n",
       "      <td>NaN</td>\n",
       "      <td>NaN</td>\n",
       "      <td>0</td>\n",
       "      <td>2</td>\n",
       "      <td>1</td>\n",
       "      <td>2016/8/3 11:31</td>\n",
       "      <td>2016/8/3 11:31</td>\n",
       "      <td>NaN</td>\n",
       "      <td>NaN</td>\n",
       "    </tr>\n",
       "    <tr>\n",
       "      <th>4</th>\n",
       "      <td>18680</td>\n",
       "      <td>2014-2015</td>\n",
       "      <td>1</td>\n",
       "      <td>201211393</td>\n",
       "      <td>NaN</td>\n",
       "      <td>NaN</td>\n",
       "      <td>NaN</td>\n",
       "      <td>0</td>\n",
       "      <td>1</td>\n",
       "      <td>1</td>\n",
       "      <td>2016/8/3 11:31</td>\n",
       "      <td>2016/8/3 11:31</td>\n",
       "      <td>NaN</td>\n",
       "      <td>NaN</td>\n",
       "    </tr>\n",
       "  </tbody>\n",
       "</table>\n",
       "</div>"
      ],
      "text/plain": [
       "      id school_year  school_term         sno  department_code class_no  \\\n",
       "0   2677   2014-2015            1  2012104676              NaN      NaN   \n",
       "1  17562   2014-2015            1   201210857              NaN      NaN   \n",
       "2  13051   2014-2015            1  2012113080              NaN      NaN   \n",
       "3   1391   2014-2015            1  2012113173              NaN      NaN   \n",
       "4  18680   2014-2015            1   201211393              NaN      NaN   \n",
       "\n",
       "   month_avg_consumption  status  poor_level  data_source      created_at  \\\n",
       "0                    NaN       0           2            1  2016/8/3 11:31   \n",
       "1                    NaN       0           1            1  2016/8/3 11:31   \n",
       "2                    NaN       0           1            1  2016/8/3 11:31   \n",
       "3                    NaN       0           2            1  2016/8/3 11:31   \n",
       "4                    NaN       0           1            1  2016/8/3 11:31   \n",
       "\n",
       "       updated_at  in_school_status  school_roll  \n",
       "0  2016/8/3 11:31               NaN          NaN  \n",
       "1  2016/8/3 11:31               NaN          NaN  \n",
       "2  2016/8/3 11:31               NaN          NaN  \n",
       "3  2016/8/3 11:31               NaN          NaN  \n",
       "4  2016/8/3 11:31               NaN          NaN  "
      ]
     },
     "execution_count": 12,
     "metadata": {},
     "output_type": "execute_result"
    }
   ],
   "source": [
    "poor_students.head()"
   ]
  },
  {
   "cell_type": "code",
   "execution_count": 71,
   "metadata": {
    "collapsed": false
   },
   "outputs": [
    {
     "data": {
      "text/plain": [
       "2015-2016    2502\n",
       "2014-2015    2485\n",
       "2016-2017      53\n",
       "Name: school_year, dtype: int64"
      ]
     },
     "execution_count": 71,
     "metadata": {},
     "output_type": "execute_result"
    }
   ],
   "source": [
    "poor_students['school_year'].value_counts()"
   ]
  },
  {
   "cell_type": "code",
   "execution_count": 72,
   "metadata": {
    "collapsed": false
   },
   "outputs": [],
   "source": [
    "#删除的无用的列\n",
    "\n",
    "X=[x for x in poor_students.columns if x not in ['sno']]\n",
    "poor_students_f=poor_students.drop(X,axis=1)"
   ]
  },
  {
   "cell_type": "code",
   "execution_count": 75,
   "metadata": {
    "collapsed": false
   },
   "outputs": [],
   "source": [
    "#删除重复列\n",
    "poor_students_ff=poor_students_f.drop_duplicates()"
   ]
  },
  {
   "cell_type": "code",
   "execution_count": 76,
   "metadata": {
    "collapsed": false
   },
   "outputs": [
    {
     "data": {
      "text/plain": [
       "2721"
      ]
     },
     "execution_count": 76,
     "metadata": {},
     "output_type": "execute_result"
    }
   ],
   "source": [
    "len(poor_students_ff)"
   ]
  },
  {
   "cell_type": "code",
   "execution_count": 95,
   "metadata": {
    "collapsed": false
   },
   "outputs": [],
   "source": [
    "#获取学生的贫困等级\n",
    "poor_level=poor_students.iloc[poor_students_ff.index]['poor_level'].values"
   ]
  },
  {
   "cell_type": "code",
   "execution_count": 96,
   "metadata": {
    "collapsed": false
   },
   "outputs": [
    {
     "name": "stderr",
     "output_type": "stream",
     "text": [
      "C:\\Users\\Wvv\\Anaconda3\\envs\\py2\\lib\\site-packages\\ipykernel\\__main__.py:1: SettingWithCopyWarning: \n",
      "A value is trying to be set on a copy of a slice from a DataFrame.\n",
      "Try using .loc[row_indexer,col_indexer] = value instead\n",
      "\n",
      "See the caveats in the documentation: http://pandas.pydata.org/pandas-docs/stable/indexing.html#indexing-view-versus-copy\n",
      "  if __name__ == '__main__':\n"
     ]
    }
   ],
   "source": [
    "#給表添加贫困等级者一列\n",
    "poor_students_ff['poor_level']=poor_level"
   ]
  },
  {
   "cell_type": "code",
   "execution_count": 103,
   "metadata": {
    "collapsed": false
   },
   "outputs": [
    {
     "name": "stderr",
     "output_type": "stream",
     "text": [
      "C:\\Users\\Wvv\\Anaconda3\\envs\\py2\\lib\\site-packages\\ipykernel\\__main__.py:1: SettingWithCopyWarning: \n",
      "A value is trying to be set on a copy of a slice from a DataFrame.\n",
      "Try using .loc[row_indexer,col_indexer] = value instead\n",
      "\n",
      "See the caveats in the documentation: http://pandas.pydata.org/pandas-docs/stable/indexing.html#indexing-view-versus-copy\n",
      "  if __name__ == '__main__':\n"
     ]
    }
   ],
   "source": [
    "#添加是否贫困生这一列\n",
    "poor_students_ff['is_poor']=1"
   ]
  },
  {
   "cell_type": "code",
   "execution_count": 105,
   "metadata": {
    "collapsed": false
   },
   "outputs": [
    {
     "data": {
      "text/html": [
       "<div>\n",
       "<table border=\"1\" class=\"dataframe\">\n",
       "  <thead>\n",
       "    <tr style=\"text-align: right;\">\n",
       "      <th></th>\n",
       "      <th>sno</th>\n",
       "      <th>poor_levlel</th>\n",
       "      <th>is_poor</th>\n",
       "    </tr>\n",
       "  </thead>\n",
       "  <tbody>\n",
       "    <tr>\n",
       "      <th>0</th>\n",
       "      <td>2012104676</td>\n",
       "      <td>2</td>\n",
       "      <td>1</td>\n",
       "    </tr>\n",
       "    <tr>\n",
       "      <th>1</th>\n",
       "      <td>201210857</td>\n",
       "      <td>1</td>\n",
       "      <td>1</td>\n",
       "    </tr>\n",
       "    <tr>\n",
       "      <th>2</th>\n",
       "      <td>2012113080</td>\n",
       "      <td>1</td>\n",
       "      <td>1</td>\n",
       "    </tr>\n",
       "    <tr>\n",
       "      <th>3</th>\n",
       "      <td>2012113173</td>\n",
       "      <td>2</td>\n",
       "      <td>1</td>\n",
       "    </tr>\n",
       "    <tr>\n",
       "      <th>4</th>\n",
       "      <td>201211393</td>\n",
       "      <td>1</td>\n",
       "      <td>1</td>\n",
       "    </tr>\n",
       "  </tbody>\n",
       "</table>\n",
       "</div>"
      ],
      "text/plain": [
       "          sno  poor_levlel  is_poor\n",
       "0  2012104676            2        1\n",
       "1   201210857            1        1\n",
       "2  2012113080            1        1\n",
       "3  2012113173            2        1\n",
       "4   201211393            1        1"
      ]
     },
     "execution_count": 105,
     "metadata": {},
     "output_type": "execute_result"
    }
   ],
   "source": [
    "poor_students_ff.head()"
   ]
  },
  {
   "cell_type": "code",
   "execution_count": 106,
   "metadata": {
    "collapsed": true
   },
   "outputs": [],
   "source": [
    "#保存数据\n",
    "poor_students_ff.to_csv('poor_student_data/poor_students.csv',index=False)"
   ]
  },
  {
   "cell_type": "code",
   "execution_count": null,
   "metadata": {
    "collapsed": true
   },
   "outputs": [],
   "source": []
  }
 ],
 "metadata": {
  "kernelspec": {
   "display_name": "Python [py2]",
   "language": "python",
   "name": "Python [py2]"
  },
  "language_info": {
   "codemirror_mode": {
    "name": "ipython",
    "version": 2
   },
   "file_extension": ".py",
   "mimetype": "text/x-python",
   "name": "python",
   "nbconvert_exporter": "python",
   "pygments_lexer": "ipython2",
   "version": "2.7.12"
  }
 },
 "nbformat": 4,
 "nbformat_minor": 0
}
