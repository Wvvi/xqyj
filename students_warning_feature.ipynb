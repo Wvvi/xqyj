{
 "cells": [
  {
   "cell_type": "code",
   "execution_count": 1,
   "metadata": {
    "collapsed": true
   },
   "outputs": [],
   "source": [
    "import pandas as pd \n",
    "import numpy as np"
   ]
  },
  {
   "cell_type": "code",
   "execution_count": 2,
   "metadata": {
    "collapsed": true
   },
   "outputs": [],
   "source": [
    "#数据路径\n",
    "\n",
    "path='F:/weiwei/xue_qian_yu_jing/xqyj_data'\n",
    "\n",
    "#学生学业预警数据\n",
    "\n",
    "students_warnings_data=pd.read_csv(path+'/schoolwark_warnings_0124.csv',encoding='gbk')"
   ]
  },
  {
   "cell_type": "code",
   "execution_count": 3,
   "metadata": {
    "collapsed": false
   },
   "outputs": [
    {
     "data": {
      "text/html": [
       "<div>\n",
       "<table border=\"1\" class=\"dataframe\">\n",
       "  <thead>\n",
       "    <tr style=\"text-align: right;\">\n",
       "      <th></th>\n",
       "      <th>id</th>\n",
       "      <th>sno</th>\n",
       "      <th>warning_type</th>\n",
       "      <th>desp</th>\n",
       "      <th>warning_term</th>\n",
       "      <th>department_code</th>\n",
       "      <th>class_no</th>\n",
       "      <th>warning_code</th>\n",
       "      <th>created_at</th>\n",
       "      <th>updated_at</th>\n",
       "      <th>...</th>\n",
       "      <th>in_school_status</th>\n",
       "      <th>integrate_lvl</th>\n",
       "      <th>integrate_lvl_name</th>\n",
       "      <th>last_term_lvl</th>\n",
       "      <th>last_term_lvl_name</th>\n",
       "      <th>warning_name</th>\n",
       "      <th>warning_value</th>\n",
       "      <th>class_name</th>\n",
       "      <th>original_lvl</th>\n",
       "      <th>original_lvl_name</th>\n",
       "    </tr>\n",
       "  </thead>\n",
       "  <tbody>\n",
       "    <tr>\n",
       "      <th>0</th>\n",
       "      <td>25614</td>\n",
       "      <td>2012211580</td>\n",
       "      <td>1</td>\n",
       "      <td>学分未达到</td>\n",
       "      <td>2016-2017</td>\n",
       "      <td>205</td>\n",
       "      <td>13205050103</td>\n",
       "      <td>41</td>\n",
       "      <td>2016/10/31 7:58</td>\n",
       "      <td>2017/1/18 16:54</td>\n",
       "      <td>...</td>\n",
       "      <td>1</td>\n",
       "      <td>NaN</td>\n",
       "      <td>NaN</td>\n",
       "      <td>NaN</td>\n",
       "      <td>NaN</td>\n",
       "      <td>其他（教师手动添加）</td>\n",
       "      <td>其他（橙色预警事件）</td>\n",
       "      <td>英语1303班</td>\n",
       "      <td>NaN</td>\n",
       "      <td>NaN</td>\n",
       "    </tr>\n",
       "    <tr>\n",
       "      <th>1</th>\n",
       "      <td>21519</td>\n",
       "      <td>2012211580</td>\n",
       "      <td>1</td>\n",
       "      <td>学分未达到</td>\n",
       "      <td>2015-2016</td>\n",
       "      <td>205</td>\n",
       "      <td>13205050103</td>\n",
       "      <td>41</td>\n",
       "      <td>0000/0/0 00:00:00</td>\n",
       "      <td>2017/1/17 17:52</td>\n",
       "      <td>...</td>\n",
       "      <td>1</td>\n",
       "      <td>NaN</td>\n",
       "      <td>NaN</td>\n",
       "      <td>NaN</td>\n",
       "      <td>NaN</td>\n",
       "      <td>其他（教师手动添加）</td>\n",
       "      <td>其他（橙色预警事件）</td>\n",
       "      <td>英语1303班</td>\n",
       "      <td>NaN</td>\n",
       "      <td>NaN</td>\n",
       "    </tr>\n",
       "    <tr>\n",
       "      <th>2</th>\n",
       "      <td>23855</td>\n",
       "      <td>2012212561</td>\n",
       "      <td>1</td>\n",
       "      <td>偏远薄弱地、留转休、挂科11门</td>\n",
       "      <td>2016-2017</td>\n",
       "      <td>207</td>\n",
       "      <td>13207070401</td>\n",
       "      <td>40</td>\n",
       "      <td>2016/10/31 7:53</td>\n",
       "      <td>2017/1/18 16:54</td>\n",
       "      <td>...</td>\n",
       "      <td>1</td>\n",
       "      <td>NaN</td>\n",
       "      <td>NaN</td>\n",
       "      <td>NaN</td>\n",
       "      <td>NaN</td>\n",
       "      <td>其他（教师手动添加）</td>\n",
       "      <td>其他（黄色预警事件）</td>\n",
       "      <td>13工商(1)</td>\n",
       "      <td>NaN</td>\n",
       "      <td>NaN</td>\n",
       "    </tr>\n",
       "    <tr>\n",
       "      <th>3</th>\n",
       "      <td>19760</td>\n",
       "      <td>2012212561</td>\n",
       "      <td>1</td>\n",
       "      <td>偏远薄弱地、留转休、挂科11门</td>\n",
       "      <td>2015-2016</td>\n",
       "      <td>207</td>\n",
       "      <td>13207070401</td>\n",
       "      <td>40</td>\n",
       "      <td>0000/0/0 00:00:00</td>\n",
       "      <td>2017/1/17 17:51</td>\n",
       "      <td>...</td>\n",
       "      <td>1</td>\n",
       "      <td>NaN</td>\n",
       "      <td>NaN</td>\n",
       "      <td>NaN</td>\n",
       "      <td>NaN</td>\n",
       "      <td>其他（教师手动添加）</td>\n",
       "      <td>其他（黄色预警事件）</td>\n",
       "      <td>13工商(1)</td>\n",
       "      <td>NaN</td>\n",
       "      <td>NaN</td>\n",
       "    </tr>\n",
       "    <tr>\n",
       "      <th>4</th>\n",
       "      <td>23870</td>\n",
       "      <td>2012212865</td>\n",
       "      <td>1</td>\n",
       "      <td>偏远薄弱地、留转休、挂科6门</td>\n",
       "      <td>2016-2017</td>\n",
       "      <td>207</td>\n",
       "      <td>13207070301</td>\n",
       "      <td>42</td>\n",
       "      <td>2016/10/31 7:53</td>\n",
       "      <td>2017/1/18 16:54</td>\n",
       "      <td>...</td>\n",
       "      <td>1</td>\n",
       "      <td>NaN</td>\n",
       "      <td>NaN</td>\n",
       "      <td>NaN</td>\n",
       "      <td>NaN</td>\n",
       "      <td>其他（教师手动添加）</td>\n",
       "      <td>其他（红色预警事件）</td>\n",
       "      <td>旅游管理1301班</td>\n",
       "      <td>NaN</td>\n",
       "      <td>NaN</td>\n",
       "    </tr>\n",
       "  </tbody>\n",
       "</table>\n",
       "<p>5 rows × 33 columns</p>\n",
       "</div>"
      ],
      "text/plain": [
       "      id         sno  warning_type             desp warning_term  \\\n",
       "0  25614  2012211580             1            学分未达到    2016-2017   \n",
       "1  21519  2012211580             1            学分未达到    2015-2016   \n",
       "2  23855  2012212561             1  偏远薄弱地、留转休、挂科11门    2016-2017   \n",
       "3  19760  2012212561             1  偏远薄弱地、留转休、挂科11门    2015-2016   \n",
       "4  23870  2012212865             1   偏远薄弱地、留转休、挂科6门    2016-2017   \n",
       "\n",
       "   department_code     class_no  warning_code         created_at  \\\n",
       "0              205  13205050103            41    2016/10/31 7:58   \n",
       "1              205  13205050103            41  0000/0/0 00:00:00   \n",
       "2              207  13207070401            40    2016/10/31 7:53   \n",
       "3              207  13207070401            40  0000/0/0 00:00:00   \n",
       "4              207  13207070301            42    2016/10/31 7:53   \n",
       "\n",
       "        updated_at        ...         in_school_status  integrate_lvl  \\\n",
       "0  2017/1/18 16:54        ...                        1            NaN   \n",
       "1  2017/1/17 17:52        ...                        1            NaN   \n",
       "2  2017/1/18 16:54        ...                        1            NaN   \n",
       "3  2017/1/17 17:51        ...                        1            NaN   \n",
       "4  2017/1/18 16:54        ...                        1            NaN   \n",
       "\n",
       "   integrate_lvl_name  last_term_lvl  last_term_lvl_name warning_name  \\\n",
       "0                 NaN            NaN                 NaN   其他（教师手动添加）   \n",
       "1                 NaN            NaN                 NaN   其他（教师手动添加）   \n",
       "2                 NaN            NaN                 NaN   其他（教师手动添加）   \n",
       "3                 NaN            NaN                 NaN   其他（教师手动添加）   \n",
       "4                 NaN            NaN                 NaN   其他（教师手动添加）   \n",
       "\n",
       "   warning_value class_name original_lvl original_lvl_name  \n",
       "0     其他（橙色预警事件）    英语1303班          NaN               NaN  \n",
       "1     其他（橙色预警事件）    英语1303班          NaN               NaN  \n",
       "2     其他（黄色预警事件）    13工商(1)          NaN               NaN  \n",
       "3     其他（黄色预警事件）    13工商(1)          NaN               NaN  \n",
       "4     其他（红色预警事件）  旅游管理1301班          NaN               NaN  \n",
       "\n",
       "[5 rows x 33 columns]"
      ]
     },
     "execution_count": 3,
     "metadata": {},
     "output_type": "execute_result"
    }
   ],
   "source": [
    "students_warnings_data.head()"
   ]
  },
  {
   "cell_type": "code",
   "execution_count": 4,
   "metadata": {
    "collapsed": false
   },
   "outputs": [
    {
     "data": {
      "text/plain": [
       "Index([u'id', u'sno', u'warning_type', u'desp', u'warning_term',\n",
       "       u'department_code', u'class_no', u'warning_code', u'created_at',\n",
       "       u'updated_at', u'warning_term_code', u'wno', u'status',\n",
       "       u'original_warning_code', u'original_desp', u'operate_time', u'grade',\n",
       "       u'department_name', u'major_name', u'current_lvl_name', u'data_source',\n",
       "       u'major_code', u'school_roll', u'in_school_status', u'integrate_lvl',\n",
       "       u'integrate_lvl_name', u'last_term_lvl', u'last_term_lvl_name',\n",
       "       u'warning_name', u'warning_value', u'class_name', u'original_lvl',\n",
       "       u'original_lvl_name'],\n",
       "      dtype='object')"
      ]
     },
     "execution_count": 4,
     "metadata": {},
     "output_type": "execute_result"
    }
   ],
   "source": [
    "students_warnings_data.columns"
   ]
  },
  {
   "cell_type": "code",
   "execution_count": 7,
   "metadata": {
    "collapsed": false
   },
   "outputs": [],
   "source": [
    "#删除无用列\n",
    "X=[x for x in students_warnings_data.columns if x not in [u'sno', u'current_lvl_name']]\n",
    "students_warnings=students_warnings_data.drop(X,axis=1)"
   ]
  },
  {
   "cell_type": "code",
   "execution_count": 8,
   "metadata": {
    "collapsed": false
   },
   "outputs": [
    {
     "data": {
      "text/html": [
       "<div>\n",
       "<table border=\"1\" class=\"dataframe\">\n",
       "  <thead>\n",
       "    <tr style=\"text-align: right;\">\n",
       "      <th></th>\n",
       "      <th>sno</th>\n",
       "      <th>current_lvl_name</th>\n",
       "    </tr>\n",
       "  </thead>\n",
       "  <tbody>\n",
       "    <tr>\n",
       "      <th>0</th>\n",
       "      <td>2012211580</td>\n",
       "      <td>橙色预警</td>\n",
       "    </tr>\n",
       "    <tr>\n",
       "      <th>1</th>\n",
       "      <td>2012211580</td>\n",
       "      <td>橙色预警</td>\n",
       "    </tr>\n",
       "    <tr>\n",
       "      <th>2</th>\n",
       "      <td>2012212561</td>\n",
       "      <td>黄色预警</td>\n",
       "    </tr>\n",
       "    <tr>\n",
       "      <th>3</th>\n",
       "      <td>2012212561</td>\n",
       "      <td>黄色预警</td>\n",
       "    </tr>\n",
       "    <tr>\n",
       "      <th>4</th>\n",
       "      <td>2012212865</td>\n",
       "      <td>红色预警</td>\n",
       "    </tr>\n",
       "  </tbody>\n",
       "</table>\n",
       "</div>"
      ],
      "text/plain": [
       "          sno current_lvl_name\n",
       "0  2012211580             橙色预警\n",
       "1  2012211580             橙色预警\n",
       "2  2012212561             黄色预警\n",
       "3  2012212561             黄色预警\n",
       "4  2012212865             红色预警"
      ]
     },
     "execution_count": 8,
     "metadata": {},
     "output_type": "execute_result"
    }
   ],
   "source": [
    "students_warnings.head()"
   ]
  },
  {
   "cell_type": "code",
   "execution_count": 11,
   "metadata": {
    "collapsed": true
   },
   "outputs": [],
   "source": [
    "def level(x):\n",
    "    if x=='蓝色预警':\n",
    "        return 1\n",
    "    elif x=='黄色预警':\n",
    "        return 2\n",
    "    elif x=='橙色预警':\n",
    "        return 3\n",
    "    else:\n",
    "        return 4\n",
    "students_warnings['current_lvl_name']=students_warnings['current_lvl_name'].apply(level)"
   ]
  },
  {
   "cell_type": "code",
   "execution_count": 13,
   "metadata": {
    "collapsed": true
   },
   "outputs": [],
   "source": [
    "#更改列名\n",
    "students_warnings.rename(columns={'current_lvl_name':'student_warning_lvl'},inplace=True)"
   ]
  },
  {
   "cell_type": "code",
   "execution_count": 14,
   "metadata": {
    "collapsed": false
   },
   "outputs": [
    {
     "data": {
      "text/html": [
       "<div>\n",
       "<table border=\"1\" class=\"dataframe\">\n",
       "  <thead>\n",
       "    <tr style=\"text-align: right;\">\n",
       "      <th></th>\n",
       "      <th>sno</th>\n",
       "      <th>student_warning_lvl</th>\n",
       "    </tr>\n",
       "  </thead>\n",
       "  <tbody>\n",
       "    <tr>\n",
       "      <th>0</th>\n",
       "      <td>2012211580</td>\n",
       "      <td>3</td>\n",
       "    </tr>\n",
       "    <tr>\n",
       "      <th>1</th>\n",
       "      <td>2012211580</td>\n",
       "      <td>3</td>\n",
       "    </tr>\n",
       "    <tr>\n",
       "      <th>2</th>\n",
       "      <td>2012212561</td>\n",
       "      <td>2</td>\n",
       "    </tr>\n",
       "    <tr>\n",
       "      <th>3</th>\n",
       "      <td>2012212561</td>\n",
       "      <td>2</td>\n",
       "    </tr>\n",
       "    <tr>\n",
       "      <th>4</th>\n",
       "      <td>2012212865</td>\n",
       "      <td>4</td>\n",
       "    </tr>\n",
       "  </tbody>\n",
       "</table>\n",
       "</div>"
      ],
      "text/plain": [
       "          sno  student_warning_lvl\n",
       "0  2012211580                    3\n",
       "1  2012211580                    3\n",
       "2  2012212561                    2\n",
       "3  2012212561                    2\n",
       "4  2012212865                    4"
      ]
     },
     "execution_count": 14,
     "metadata": {},
     "output_type": "execute_result"
    }
   ],
   "source": [
    "students_warnings.head()"
   ]
  },
  {
   "cell_type": "code",
   "execution_count": 15,
   "metadata": {
    "collapsed": true
   },
   "outputs": [],
   "source": [
    "#删除重复的列与保存数据\n",
    "students_warnings=students_warnings.drop_duplicates()\n",
    "students_warnings.to_csv('student_warning_data/student_warning_feature.csv',index=False)"
   ]
  },
  {
   "cell_type": "code",
   "execution_count": null,
   "metadata": {
    "collapsed": true
   },
   "outputs": [],
   "source": []
  }
 ],
 "metadata": {
  "anaconda-cloud": {},
  "kernelspec": {
   "display_name": "Python [py2]",
   "language": "python",
   "name": "Python [py2]"
  },
  "language_info": {
   "codemirror_mode": {
    "name": "ipython",
    "version": 2
   },
   "file_extension": ".py",
   "mimetype": "text/x-python",
   "name": "python",
   "nbconvert_exporter": "python",
   "pygments_lexer": "ipython2",
   "version": "2.7.12"
  }
 },
 "nbformat": 4,
 "nbformat_minor": 0
}
